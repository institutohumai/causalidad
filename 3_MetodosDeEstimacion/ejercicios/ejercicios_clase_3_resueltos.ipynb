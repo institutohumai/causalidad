{
  "nbformat": 4,
  "nbformat_minor": 0,
  "metadata": {
    "colab": {
      "provenance": []
    },
    "kernelspec": {
      "name": "python3",
      "display_name": "Python 3"
    },
    "language_info": {
      "name": "python"
    }
  },
  "cells": [
    {
      "cell_type": "code",
      "source": [
        "%pip install linearmodels --quiet\n",
        "\n",
        "import pandas as pd\n",
        "import numpy as np\n",
        "import io\n",
        "\n",
        "\n",
        "import matplotlib.pyplot as plt\n",
        "\n",
        "import statsmodels.formula.api as smf\n",
        "from linearmodels import IV2SLS  # módulo específico de variables instrumentales"
      ],
      "metadata": {
        "colab": {
          "base_uri": "https://localhost:8080/"
        },
        "id": "aHDRXgm8xuwf",
        "outputId": "692265f9-8de2-4bf9-af94-68b29870b38d"
      },
      "execution_count": 1,
      "outputs": [
        {
          "output_type": "stream",
          "name": "stdout",
          "text": [
            "\u001b[2K     \u001b[90m━━━━━━━━━━━━━━━━━━━━━━━━━━━━━━━━━━━━━━━━\u001b[0m \u001b[32m1.8/1.8 MB\u001b[0m \u001b[31m21.3 MB/s\u001b[0m eta \u001b[36m0:00:00\u001b[0m\n",
            "\u001b[2K     \u001b[90m━━━━━━━━━━━━━━━━━━━━━━━━━━━━━━━━━━━━━━━━\u001b[0m \u001b[32m82.5/82.5 kB\u001b[0m \u001b[31m7.2 MB/s\u001b[0m eta \u001b[36m0:00:00\u001b[0m\n",
            "\u001b[2K     \u001b[90m━━━━━━━━━━━━━━━━━━━━━━━━━━━━━━━━━━━━━━━━\u001b[0m \u001b[32m43.8/43.8 kB\u001b[0m \u001b[31m3.8 MB/s\u001b[0m eta \u001b[36m0:00:00\u001b[0m\n",
            "\u001b[?25h"
          ]
        }
      ]
    },
    {
      "cell_type": "markdown",
      "metadata": {
        "id": "agXhl6BxUbM2"
      },
      "source": [
        "# Introducción a la Inferencia Causal\n",
        "\n",
        "# Ejercicios - Clase 3"
      ]
    },
    {
      "cell_type": "markdown",
      "source": [
        "## Ejercicio 1: Variables Instrumentales\n",
        "\n",
        "\n",
        "Para este ejercicio usaremos los datos del trabajo de [Galiani, Rossi, & Schargrodsky (2011). Conscription and crime...](https://www.povertyactionlab.org/sites/default/files/research-paper/227_348%20Military%20conscription%20and%20crime%20in%20Argentina%20AER%20Apr%202011.pdf) que mencionamos durante la clase. Son datos reales.\n",
        "\n",
        "\n",
        "Los autores quieren ver si ir al servicio militar en Argentina aumentaba las chances de luego cometer un crimen. Para poder identificar ese efecto aprovechan los sorteos anuales que se hacían para determinar quiénes debían cumplir con el servicio militar. Primero, se asignaba un número para cada grupo de personas de la cohorte correspondiente a ese año que tengan el DNI terminado en los mismos tres dígitos. Más tarde se anunciaba un número de corte y aquellos con número por encima debían hacer el servicio militar. Además, debían pasar un examen médico para poder hacerlo."
      ],
      "metadata": {
        "id": "N3pQ6tewmIoe"
      }
    },
    {
      "cell_type": "markdown",
      "source": [
        "#### Datos\n",
        "\n",
        "Para esta práctica usaremos los datos correspondientes a la cohorte de 1962.\n",
        "Cada observación corresponde a un grupo de personas: aquellas que tienen los mismos 3 últimos números de DNI (por confidencialidad no se compartieron los DNI completos) en la cohorte de ese año.\n",
        "\n",
        "Variables:\n",
        "*   $sm_{i} $ es la proporción de personas con DNI terminado en $i$ que efectivamente hicieron el servicio militar. Es la variable de **tratamiento**, cuyo efecto sobre el crimen nos interesa estimar.\n",
        "*   $numalto_{i} = 1$ si el número de la lotería para los DNIs terminados en $i$ en la cohorte $c$ fue \"ALTO\". Es una variable de **intención de tratamiento** (o _intention to treat_, ITT) . Los que fueron sorteados con número alto deberían ir al servicio militar, deberían recibir tratamiento.\n",
        "*  $tasacrimen_{i} $ es la tasa de crimen para el grupo de personas con DNI terminado en $i$. Es la variable de **resultado**, sobre la que queremos medir el efecto.\n",
        "*  $enfermedad_{i}$ es la proporción de personas del grupo $i$ que no pasan el examen médico."
      ],
      "metadata": {
        "id": "QRo1FkW7iKDf"
      }
    },
    {
      "cell_type": "code",
      "source": [
        "# Importar datos\n",
        "cc = pd.read_csv(\"https://storage.googleapis.com/humai-datasets/causalidad/consc_crime_1962.csv\")\n",
        "cc.head()"
      ],
      "metadata": {
        "colab": {
          "base_uri": "https://localhost:8080/",
          "height": 206
        },
        "id": "jIY1C-vD65TO",
        "outputId": "2eab1346-7ba0-4251-9c32-25b14784b312"
      },
      "execution_count": 2,
      "outputs": [
        {
          "output_type": "execute_result",
          "data": {
            "text/plain": [
              "         sm  numalto  tasacrimen  enfermedad\n",
              "0  0.020325        0    0.097978    0.089431\n",
              "1  0.752101        1    0.040082    0.075630\n",
              "2  0.689076        1    0.062349    0.100840\n",
              "3  0.795349        1    0.111338    0.069767\n",
              "4  0.682609        1    0.057896    0.095652"
            ],
            "text/html": [
              "\n",
              "  <div id=\"df-61018e9c-e6f2-4052-a32a-03a4ae714283\">\n",
              "    <div class=\"colab-df-container\">\n",
              "      <div>\n",
              "<style scoped>\n",
              "    .dataframe tbody tr th:only-of-type {\n",
              "        vertical-align: middle;\n",
              "    }\n",
              "\n",
              "    .dataframe tbody tr th {\n",
              "        vertical-align: top;\n",
              "    }\n",
              "\n",
              "    .dataframe thead th {\n",
              "        text-align: right;\n",
              "    }\n",
              "</style>\n",
              "<table border=\"1\" class=\"dataframe\">\n",
              "  <thead>\n",
              "    <tr style=\"text-align: right;\">\n",
              "      <th></th>\n",
              "      <th>sm</th>\n",
              "      <th>numalto</th>\n",
              "      <th>tasacrimen</th>\n",
              "      <th>enfermedad</th>\n",
              "    </tr>\n",
              "  </thead>\n",
              "  <tbody>\n",
              "    <tr>\n",
              "      <th>0</th>\n",
              "      <td>0.020325</td>\n",
              "      <td>0</td>\n",
              "      <td>0.097978</td>\n",
              "      <td>0.089431</td>\n",
              "    </tr>\n",
              "    <tr>\n",
              "      <th>1</th>\n",
              "      <td>0.752101</td>\n",
              "      <td>1</td>\n",
              "      <td>0.040082</td>\n",
              "      <td>0.075630</td>\n",
              "    </tr>\n",
              "    <tr>\n",
              "      <th>2</th>\n",
              "      <td>0.689076</td>\n",
              "      <td>1</td>\n",
              "      <td>0.062349</td>\n",
              "      <td>0.100840</td>\n",
              "    </tr>\n",
              "    <tr>\n",
              "      <th>3</th>\n",
              "      <td>0.795349</td>\n",
              "      <td>1</td>\n",
              "      <td>0.111338</td>\n",
              "      <td>0.069767</td>\n",
              "    </tr>\n",
              "    <tr>\n",
              "      <th>4</th>\n",
              "      <td>0.682609</td>\n",
              "      <td>1</td>\n",
              "      <td>0.057896</td>\n",
              "      <td>0.095652</td>\n",
              "    </tr>\n",
              "  </tbody>\n",
              "</table>\n",
              "</div>\n",
              "      <button class=\"colab-df-convert\" onclick=\"convertToInteractive('df-61018e9c-e6f2-4052-a32a-03a4ae714283')\"\n",
              "              title=\"Convert this dataframe to an interactive table.\"\n",
              "              style=\"display:none;\">\n",
              "        \n",
              "  <svg xmlns=\"http://www.w3.org/2000/svg\" height=\"24px\"viewBox=\"0 0 24 24\"\n",
              "       width=\"24px\">\n",
              "    <path d=\"M0 0h24v24H0V0z\" fill=\"none\"/>\n",
              "    <path d=\"M18.56 5.44l.94 2.06.94-2.06 2.06-.94-2.06-.94-.94-2.06-.94 2.06-2.06.94zm-11 1L8.5 8.5l.94-2.06 2.06-.94-2.06-.94L8.5 2.5l-.94 2.06-2.06.94zm10 10l.94 2.06.94-2.06 2.06-.94-2.06-.94-.94-2.06-.94 2.06-2.06.94z\"/><path d=\"M17.41 7.96l-1.37-1.37c-.4-.4-.92-.59-1.43-.59-.52 0-1.04.2-1.43.59L10.3 9.45l-7.72 7.72c-.78.78-.78 2.05 0 2.83L4 21.41c.39.39.9.59 1.41.59.51 0 1.02-.2 1.41-.59l7.78-7.78 2.81-2.81c.8-.78.8-2.07 0-2.86zM5.41 20L4 18.59l7.72-7.72 1.47 1.35L5.41 20z\"/>\n",
              "  </svg>\n",
              "      </button>\n",
              "      \n",
              "  <style>\n",
              "    .colab-df-container {\n",
              "      display:flex;\n",
              "      flex-wrap:wrap;\n",
              "      gap: 12px;\n",
              "    }\n",
              "\n",
              "    .colab-df-convert {\n",
              "      background-color: #E8F0FE;\n",
              "      border: none;\n",
              "      border-radius: 50%;\n",
              "      cursor: pointer;\n",
              "      display: none;\n",
              "      fill: #1967D2;\n",
              "      height: 32px;\n",
              "      padding: 0 0 0 0;\n",
              "      width: 32px;\n",
              "    }\n",
              "\n",
              "    .colab-df-convert:hover {\n",
              "      background-color: #E2EBFA;\n",
              "      box-shadow: 0px 1px 2px rgba(60, 64, 67, 0.3), 0px 1px 3px 1px rgba(60, 64, 67, 0.15);\n",
              "      fill: #174EA6;\n",
              "    }\n",
              "\n",
              "    [theme=dark] .colab-df-convert {\n",
              "      background-color: #3B4455;\n",
              "      fill: #D2E3FC;\n",
              "    }\n",
              "\n",
              "    [theme=dark] .colab-df-convert:hover {\n",
              "      background-color: #434B5C;\n",
              "      box-shadow: 0px 1px 3px 1px rgba(0, 0, 0, 0.15);\n",
              "      filter: drop-shadow(0px 1px 2px rgba(0, 0, 0, 0.3));\n",
              "      fill: #FFFFFF;\n",
              "    }\n",
              "  </style>\n",
              "\n",
              "      <script>\n",
              "        const buttonEl =\n",
              "          document.querySelector('#df-61018e9c-e6f2-4052-a32a-03a4ae714283 button.colab-df-convert');\n",
              "        buttonEl.style.display =\n",
              "          google.colab.kernel.accessAllowed ? 'block' : 'none';\n",
              "\n",
              "        async function convertToInteractive(key) {\n",
              "          const element = document.querySelector('#df-61018e9c-e6f2-4052-a32a-03a4ae714283');\n",
              "          const dataTable =\n",
              "            await google.colab.kernel.invokeFunction('convertToInteractive',\n",
              "                                                     [key], {});\n",
              "          if (!dataTable) return;\n",
              "\n",
              "          const docLinkHtml = 'Like what you see? Visit the ' +\n",
              "            '<a target=\"_blank\" href=https://colab.research.google.com/notebooks/data_table.ipynb>data table notebook</a>'\n",
              "            + ' to learn more about interactive tables.';\n",
              "          element.innerHTML = '';\n",
              "          dataTable['output_type'] = 'display_data';\n",
              "          await google.colab.output.renderOutput(dataTable, element);\n",
              "          const docLink = document.createElement('div');\n",
              "          docLink.innerHTML = docLinkHtml;\n",
              "          element.appendChild(docLink);\n",
              "        }\n",
              "      </script>\n",
              "    </div>\n",
              "  </div>\n",
              "  "
            ]
          },
          "metadata": {},
          "execution_count": 2
        }
      ]
    },
    {
      "cell_type": "markdown",
      "source": [
        "#### PARTE A: variables instrumentales para identificar el efecto causal\n",
        "\n",
        "1. [TEÓRICA]. Si regresamos la tasa de crimen directamente en la variable $sm$ (participar o no en el servicio militar), ¿identificaríamos el efecto causal? ¿Por qué?\n"
      ],
      "metadata": {
        "id": "EvvCtlTR6mxu"
      }
    },
    {
      "cell_type": "code",
      "source": [
        "# Respuesta\n",
        "\n",
        "print(\n",
        "    '''\n",
        "    No si hay algunas personas que voluntariamente deciden ir al servicio militar y otras que voluntariamente deciden evitarlo.\n",
        "    Si es así, los grupos de tratamiento y control pueden tener características distintas que afecten al resultado (por ejemplo,\n",
        "    ser más violentos), y no son comparables para estimar un efecto causal.\n",
        "    ''')"
      ],
      "metadata": {
        "colab": {
          "base_uri": "https://localhost:8080/"
        },
        "id": "Aeowrmrh6nM4",
        "outputId": "c10dc28c-c2b1-47a9-e6f9-72dd3ab5c0b3"
      },
      "execution_count": 3,
      "outputs": [
        {
          "output_type": "stream",
          "name": "stdout",
          "text": [
            "\n",
            "    No si hay algunas personas que voluntariamente deciden ir al servicio militar y otras que voluntariamente deciden evitarlo. \n",
            "    Si es así, los grupos de tratamiento y control pueden tener características distintas que afecten al resultado (por ejemplo,\n",
            "    ser más violentos), y no son comparables para estimar un efecto causal. \n",
            "    \n"
          ]
        }
      ]
    },
    {
      "cell_type": "markdown",
      "source": [
        "\n",
        "2. [TEÓRICA]. Los autores usan $numalto$ para instrumentar $sm$. ¿Cuáles son las condiciones que deben cumplirse para poder identificar el efecto causal? ¿Cómo podemos mostrar que se cumplen?"
      ],
      "metadata": {
        "id": "aBzUjsNH6nj1"
      }
    },
    {
      "cell_type": "code",
      "source": [
        "# Respuesta\n",
        "\n",
        "print(\n",
        "    '''\n",
        "    Relevancia y validez del intrumento.\n",
        "    La relevancia regresando $sm$ en $numalto$ y analizando si esa correlación es significativa.\n",
        "    La validez no es testeable, es el supuesto de identificación, debemos argumentar teóricamente que se cumple.\n",
        "    ''')"
      ],
      "metadata": {
        "colab": {
          "base_uri": "https://localhost:8080/"
        },
        "id": "lWxDVly96oPW",
        "outputId": "f28942f6-52ba-403c-dfb9-a177ba8d3223"
      },
      "execution_count": 4,
      "outputs": [
        {
          "output_type": "stream",
          "name": "stdout",
          "text": [
            "\n",
            "    Relevancia y validez del intrumento.\n",
            "    La relevancia regresando $sm$ en $numalto$ y analizando si esa correlación es significativa.\n",
            "    La validez no es testeable, es el supuesto de identificación, debemos argumentar teóricamente que se cumple.\n",
            "    \n"
          ]
        }
      ]
    },
    {
      "cell_type": "markdown",
      "source": [
        "\n",
        "3. [PRÁCTICA]. Estimar la primera etapa de Variables Instrumentales. ¿$numalto$ es relevante para $sm$?\n"
      ],
      "metadata": {
        "id": "LSQGgPo46svk"
      }
    },
    {
      "cell_type": "code",
      "source": [
        "# Primera etapa\n",
        "etapa1 = smf.ols(\"sm ~  1 + numalto\", data = cc).fit()\n",
        "\n",
        "print(\"estimador del parámetro de numalto \", etapa1.params[\"numalto\"])\n",
        "print(\"p-valor del parámetro de numalto: \", etapa1.pvalues[\"numalto\"])\n"
      ],
      "metadata": {
        "colab": {
          "base_uri": "https://localhost:8080/"
        },
        "id": "g9A7OXDLBAt7",
        "outputId": "892cb85d-494c-43b2-91d2-2e4de60230fd"
      },
      "execution_count": 5,
      "outputs": [
        {
          "output_type": "stream",
          "name": "stdout",
          "text": [
            "estimador del parámetro de numalto  0.685286843454905\n",
            "p-valor del parámetro de numalto:  0.0\n"
          ]
        }
      ]
    },
    {
      "cell_type": "code",
      "source": [
        "print(\"Sí, es relevante.\")"
      ],
      "metadata": {
        "colab": {
          "base_uri": "https://localhost:8080/"
        },
        "id": "kZXgVBIYBvit",
        "outputId": "5f538ac3-5913-4c27-c3e4-6f02455f5315"
      },
      "execution_count": 6,
      "outputs": [
        {
          "output_type": "stream",
          "name": "stdout",
          "text": [
            "Sí, es relevante.\n"
          ]
        }
      ]
    },
    {
      "cell_type": "markdown",
      "source": [
        "4. [PRÁCTICA].  Estimar la segunda etapa. Estimar \"de una sola vez\" el estimador de variables instrumentales. ¿Hay efecto causal? ¿Qué sentido tiene?"
      ],
      "metadata": {
        "id": "XMEjz5Oq6wyd"
      }
    },
    {
      "cell_type": "code",
      "source": [
        "# Segunda etapa\n",
        "cc[\"smfit\"] = etapa1.fittedvalues # valores predichos para sm\n",
        "etapa2 = smf.ols(\"tasacrimen ~ 1 + smfit\",\n",
        "                     data = cc).fit()\n",
        "etapa2.params[\"smfit\"]"
      ],
      "metadata": {
        "colab": {
          "base_uri": "https://localhost:8080/"
        },
        "id": "L0MnTuAN61iN",
        "outputId": "2245f8e9-b1cb-4cf6-f51a-e913faa7cd5c"
      },
      "execution_count": 7,
      "outputs": [
        {
          "output_type": "execute_result",
          "data": {
            "text/plain": [
              "0.003745199275495881"
            ]
          },
          "metadata": {},
          "execution_count": 7
        }
      ]
    },
    {
      "cell_type": "code",
      "source": [
        "# Estimamos \"de una\" usando linearmodels\n",
        "formula = 'tasacrimen ~ 1 + [sm ~ numalto]'\n",
        "iv = IV2SLS.from_formula(formula, data = cc).fit()\n",
        "\n",
        "param = iv.params[\"sm\"]\n",
        "se = iv.std_errors[\"sm\"]\n",
        "p_val = iv.pvalues[\"sm\"]\n",
        "\n",
        "print(f\"Parameter: {param}\")\n",
        "print(f\"SE:  {se}\")\n",
        "print(f\"95 CI: {(-1.96*se,1.96*se) + param}\")\n",
        "print(f\"P-value: {p_val}\")"
      ],
      "metadata": {
        "colab": {
          "base_uri": "https://localhost:8080/"
        },
        "id": "0fTWC2cpB9wU",
        "outputId": "b8b869ab-c087-4142-f12e-4f3f77942359"
      },
      "execution_count": 8,
      "outputs": [
        {
          "output_type": "stream",
          "name": "stdout",
          "text": [
            "Parameter: 0.0037451992754959497\n",
            "SE:  0.0018127311639972014\n",
            "95 CI: [0.00019225 0.00729815]\n",
            "P-value: 0.038823443356233334\n"
          ]
        }
      ]
    },
    {
      "cell_type": "code",
      "source": [
        "print('''\n",
        "Hay un efecto causal significativo y positivo de asistir al servicio militar en el crimen.\n",
        "Cada 1 punto que aumente la tasa de participación en el servicio militar, aumenta 1 punto\n",
        "el crimen, para aquellos que van al servicio militar porque salieron sorteados.\n",
        "''')"
      ],
      "metadata": {
        "id": "WuH1XjuXCRyK",
        "colab": {
          "base_uri": "https://localhost:8080/"
        },
        "outputId": "92f7a857-58e9-4ba9-d2fa-5b8d330e2321"
      },
      "execution_count": 9,
      "outputs": [
        {
          "output_type": "stream",
          "name": "stdout",
          "text": [
            "\n",
            "Hay un efecto causal significativo y positivo de asistir al servicio militar en el crimen.\n",
            "Cada 1 punto que aumente la tasa de participación en el servicio militar, aumenta 1 punto\n",
            "el crimen, para aquellos que van al servicio militar porque salieron sorteados.\n",
            "\n"
          ]
        }
      ]
    },
    {
      "cell_type": "markdown",
      "source": [
        "#### PARTE B: cumplidores y no cumplidores\n",
        "\n",
        "\n",
        "1.  [TEÓRICA]. ¿Qué significa en este ejemplo que estimamos el LATE y no el ATE?\n",
        "\n",
        "\n",
        "\n",
        "\n"
      ],
      "metadata": {
        "id": "-yD5qAvNoAxN"
      }
    },
    {
      "cell_type": "code",
      "source": [
        "print(\n",
        "    '''\n",
        "     Significa que es el efecto para los cumplidores, es decir, para aquellos cuya participación\n",
        "     en el servicio militar depende exclusivamente de salir o no sorteados. Aquellos que de no\n",
        "     haber salido sorteados no hubieran ido, pero que si salen sorteados sí van (ej. no mienten\n",
        "     en el examen médico ni se anotan voluntariamente).\n",
        "    '''\n",
        ")"
      ],
      "metadata": {
        "colab": {
          "base_uri": "https://localhost:8080/"
        },
        "id": "hrnwpGvOFJ8W",
        "outputId": "9c6c8a7b-6fc4-46b3-dcd0-eaea4bb35f29"
      },
      "execution_count": 10,
      "outputs": [
        {
          "output_type": "stream",
          "name": "stdout",
          "text": [
            "\n",
            "     Significa que es el efecto para los cumplidores, es decir, para aquellos cuya participación\n",
            "     en el servicio militar depende exclusivamente de salir o no sorteados. Aquellos que de no \n",
            "     haber salido sorteados no hubieran ido, pero que si salen sorteados sí van (ej. no mienten \n",
            "     en el examen médico ni se anotan voluntariamente).\n",
            "    \n"
          ]
        }
      ]
    },
    {
      "cell_type": "markdown",
      "source": [
        "2.  [PRÁCTICA]. Estimar la diferencia de medias de cuántos aprueban el examen médico según si tienen o no número alto. Para hacerlo, se puede regresar $enfermedad$  en $numalto$. Los autores dicen que los resultados de esa diferencia de medias *sugieren que los exámenes médicos eran manipulados y que, por lo tanto, la participación en el servicio militar es endógena*. ¿Quiénes serían los *no-cumplidores* en este ejemplo?\n"
      ],
      "metadata": {
        "id": "L0tyAZT8FKdD"
      }
    },
    {
      "cell_type": "code",
      "source": [
        "trampa = smf.ols(\"enfermedad ~ 1 + numalto\",\n",
        "                     data = cc).fit()\n",
        "trampa.summary().tables[1]"
      ],
      "metadata": {
        "colab": {
          "base_uri": "https://localhost:8080/",
          "height": 79
        },
        "id": "GVatD7Z5FJjt",
        "outputId": "f83aab6e-4813-4f37-d81a-cc53cb3fa335"
      },
      "execution_count": 11,
      "outputs": [
        {
          "output_type": "execute_result",
          "data": {
            "text/plain": [
              "<class 'statsmodels.iolib.table.SimpleTable'>"
            ],
            "text/html": [
              "<table class=\"simpletable\">\n",
              "<tr>\n",
              "      <td></td>         <th>coef</th>     <th>std err</th>      <th>t</th>      <th>P>|t|</th>  <th>[0.025</th>    <th>0.975]</th>  \n",
              "</tr>\n",
              "<tr>\n",
              "  <th>Intercept</th> <td>    0.0695</td> <td>    0.001</td> <td>   68.678</td> <td> 0.000</td> <td>    0.068</td> <td>    0.071</td>\n",
              "</tr>\n",
              "<tr>\n",
              "  <th>numalto</th>   <td>    0.0232</td> <td>    0.001</td> <td>   18.946</td> <td> 0.000</td> <td>    0.021</td> <td>    0.026</td>\n",
              "</tr>\n",
              "</table>"
            ]
          },
          "metadata": {},
          "execution_count": 11
        }
      ]
    },
    {
      "cell_type": "code",
      "source": [
        "print(\n",
        "    '''\n",
        "    Los no cumplidores son aquellos que a propósito buscan fallar en el examen médico.\n",
        "    Los datos muestran que quienes salían sorteados tenían significativamente más chances de fallar en el examen,\n",
        "    pero como la asignación es aleatoria es improbable que justo quienes tienen número alto tengan peor salud. Por eso\n",
        "    los autores sostienen que es un indicio de que se hacía trampa en el examen.\n",
        "    '''\n",
        ")"
      ],
      "metadata": {
        "colab": {
          "base_uri": "https://localhost:8080/"
        },
        "id": "hFJZWI-sHFFM",
        "outputId": "000a5c28-f581-49c6-9809-6633ceae423e"
      },
      "execution_count": 12,
      "outputs": [
        {
          "output_type": "stream",
          "name": "stdout",
          "text": [
            "\n",
            "    Los no cumplidores son aquellos que a propósito buscan fallar en el examen médico.\n",
            "    Los datos muestran que quienes salían sorteados tenían significativamente más chances de fallar en el examen,\n",
            "    pero como la asignación es aleatoria es improbable que justo quienes tienen número alto tengan peor salud. Por eso\n",
            "    los autores sostienen que es un indicio de que se hacía trampa en el examen. \n",
            "    \n"
          ]
        }
      ]
    },
    {
      "cell_type": "markdown",
      "source": [
        "\n",
        "3.  [PRÁCTICA] Estimar el ITT: regrese directamente la tasa de crimen en el número de sorteo. Grafique la relación entre tener número alto y la tasa de crimen. _Los autores estiman solamente el ITT para las cohortes 29-55 y 73-95, dado que no cuentan con el dato de tasa de participación en el servicio militar para esos años._"
      ],
      "metadata": {
        "id": "WymJCwOBFK_8"
      }
    },
    {
      "cell_type": "code",
      "source": [
        "# Estimamos la forma reducida\n",
        "reducida = smf.ols(\"tasacrimen ~ 1 + numalto\", data=cc).fit()\n",
        "print(\"estimación: \", reducida.params[\"numalto\"])\n"
      ],
      "metadata": {
        "colab": {
          "base_uri": "https://localhost:8080/"
        },
        "id": "_mcNvLfEDzWG",
        "outputId": "7541f2b1-d8f2-4740-a59b-69a2dd922ad7"
      },
      "execution_count": 13,
      "outputs": [
        {
          "output_type": "stream",
          "name": "stdout",
          "text": [
            "estimación:  0.0025665357896142204\n"
          ]
        }
      ]
    },
    {
      "cell_type": "markdown",
      "source": [
        "### Ejercicio 2: Diferencias en diferencias\n",
        "\n",
        "Este es un pequeño ejercicio para usar el estimador de Diferencias en Diferencias.  Di Tella & Schagrodsky [en este trabajo](https://www.aeaweb.org/articles?id=10.1257/000282804322970733) quieren responder a la pregunta de si poner más policía en una cuadra ayuda a reducir el crimen.\n",
        "\n",
        "Tras el atentado terrorista a la AMIA en julio de 1994, se decidió poner policía en aquellas cuadras de la Ciudad de Buenos Aires donde hubiera instituciones judías. Los autores aprovechan este aumento en la cantidad de policía para medir su efecto sobre el crimen. Cuentan con datos de robos de autos entre abril y diciembre de 1994 a nivel de cuadra, así como con la dirección donde se ubican las instituciones judías en varios barrios de la ciudad de Buenos Aires.\n",
        "\n",
        "Noten que cuentan con datos _de panel_. El tratamiento (poner más policía) varía:\n",
        "* en el tiempo: antes y después de julio de 1994\n",
        "* en el espacio: entre cuadras con y sin instituciones\n",
        "\n",
        "\n",
        "La unidad de observación, entonces, es una cuadra en un mes. Para cada cuadra y mes se cuenta con las siguientes variables:\n",
        "* $totrob_cm$ es el número de robos de auto en la cuadra $c$ en el mes $m$. Si el robo sucede en una esquina, le asignan un 0.25 a cada cuadra.\n",
        "* $instit_c = 1$ si hay una institución judía en esa cuadra ($0$ si no). Noten que esta variable sólo varía por cuadra, y es constante en el tiempo.\n",
        "* $postjul_m = 1$ si el mes es posterior a julio de 1994, es decir, posterior al atentado. Noten que esta variable sólo varía en el tiempo, y es fija para todas las cuadras.\n"
      ],
      "metadata": {
        "id": "bM7HBsRjLurm"
      }
    },
    {
      "cell_type": "code",
      "source": [
        "# Importamos los datos\n",
        "amia = pd.read_csv(\"https://storage.googleapis.com/humai-datasets/causalidad/amia.csv\")\n",
        "amia.head()"
      ],
      "metadata": {
        "colab": {
          "base_uri": "https://localhost:8080/",
          "height": 206
        },
        "id": "oQnN_FGDRfU7",
        "outputId": "aa02184e-853f-4a03-e6d4-8c9367852a2e"
      },
      "execution_count": 14,
      "outputs": [
        {
          "output_type": "execute_result",
          "data": {
            "text/plain": [
              "   totrob  instit  postjul\n",
              "0     0.0       0        0\n",
              "1     0.0       0        0\n",
              "2     0.0       1        0\n",
              "3     0.0       0        0\n",
              "4     0.0       1        0"
            ],
            "text/html": [
              "\n",
              "  <div id=\"df-54236aa1-521f-4d90-b942-e6a63a7aa04f\">\n",
              "    <div class=\"colab-df-container\">\n",
              "      <div>\n",
              "<style scoped>\n",
              "    .dataframe tbody tr th:only-of-type {\n",
              "        vertical-align: middle;\n",
              "    }\n",
              "\n",
              "    .dataframe tbody tr th {\n",
              "        vertical-align: top;\n",
              "    }\n",
              "\n",
              "    .dataframe thead th {\n",
              "        text-align: right;\n",
              "    }\n",
              "</style>\n",
              "<table border=\"1\" class=\"dataframe\">\n",
              "  <thead>\n",
              "    <tr style=\"text-align: right;\">\n",
              "      <th></th>\n",
              "      <th>totrob</th>\n",
              "      <th>instit</th>\n",
              "      <th>postjul</th>\n",
              "    </tr>\n",
              "  </thead>\n",
              "  <tbody>\n",
              "    <tr>\n",
              "      <th>0</th>\n",
              "      <td>0.0</td>\n",
              "      <td>0</td>\n",
              "      <td>0</td>\n",
              "    </tr>\n",
              "    <tr>\n",
              "      <th>1</th>\n",
              "      <td>0.0</td>\n",
              "      <td>0</td>\n",
              "      <td>0</td>\n",
              "    </tr>\n",
              "    <tr>\n",
              "      <th>2</th>\n",
              "      <td>0.0</td>\n",
              "      <td>1</td>\n",
              "      <td>0</td>\n",
              "    </tr>\n",
              "    <tr>\n",
              "      <th>3</th>\n",
              "      <td>0.0</td>\n",
              "      <td>0</td>\n",
              "      <td>0</td>\n",
              "    </tr>\n",
              "    <tr>\n",
              "      <th>4</th>\n",
              "      <td>0.0</td>\n",
              "      <td>1</td>\n",
              "      <td>0</td>\n",
              "    </tr>\n",
              "  </tbody>\n",
              "</table>\n",
              "</div>\n",
              "      <button class=\"colab-df-convert\" onclick=\"convertToInteractive('df-54236aa1-521f-4d90-b942-e6a63a7aa04f')\"\n",
              "              title=\"Convert this dataframe to an interactive table.\"\n",
              "              style=\"display:none;\">\n",
              "        \n",
              "  <svg xmlns=\"http://www.w3.org/2000/svg\" height=\"24px\"viewBox=\"0 0 24 24\"\n",
              "       width=\"24px\">\n",
              "    <path d=\"M0 0h24v24H0V0z\" fill=\"none\"/>\n",
              "    <path d=\"M18.56 5.44l.94 2.06.94-2.06 2.06-.94-2.06-.94-.94-2.06-.94 2.06-2.06.94zm-11 1L8.5 8.5l.94-2.06 2.06-.94-2.06-.94L8.5 2.5l-.94 2.06-2.06.94zm10 10l.94 2.06.94-2.06 2.06-.94-2.06-.94-.94-2.06-.94 2.06-2.06.94z\"/><path d=\"M17.41 7.96l-1.37-1.37c-.4-.4-.92-.59-1.43-.59-.52 0-1.04.2-1.43.59L10.3 9.45l-7.72 7.72c-.78.78-.78 2.05 0 2.83L4 21.41c.39.39.9.59 1.41.59.51 0 1.02-.2 1.41-.59l7.78-7.78 2.81-2.81c.8-.78.8-2.07 0-2.86zM5.41 20L4 18.59l7.72-7.72 1.47 1.35L5.41 20z\"/>\n",
              "  </svg>\n",
              "      </button>\n",
              "      \n",
              "  <style>\n",
              "    .colab-df-container {\n",
              "      display:flex;\n",
              "      flex-wrap:wrap;\n",
              "      gap: 12px;\n",
              "    }\n",
              "\n",
              "    .colab-df-convert {\n",
              "      background-color: #E8F0FE;\n",
              "      border: none;\n",
              "      border-radius: 50%;\n",
              "      cursor: pointer;\n",
              "      display: none;\n",
              "      fill: #1967D2;\n",
              "      height: 32px;\n",
              "      padding: 0 0 0 0;\n",
              "      width: 32px;\n",
              "    }\n",
              "\n",
              "    .colab-df-convert:hover {\n",
              "      background-color: #E2EBFA;\n",
              "      box-shadow: 0px 1px 2px rgba(60, 64, 67, 0.3), 0px 1px 3px 1px rgba(60, 64, 67, 0.15);\n",
              "      fill: #174EA6;\n",
              "    }\n",
              "\n",
              "    [theme=dark] .colab-df-convert {\n",
              "      background-color: #3B4455;\n",
              "      fill: #D2E3FC;\n",
              "    }\n",
              "\n",
              "    [theme=dark] .colab-df-convert:hover {\n",
              "      background-color: #434B5C;\n",
              "      box-shadow: 0px 1px 3px 1px rgba(0, 0, 0, 0.15);\n",
              "      filter: drop-shadow(0px 1px 2px rgba(0, 0, 0, 0.3));\n",
              "      fill: #FFFFFF;\n",
              "    }\n",
              "  </style>\n",
              "\n",
              "      <script>\n",
              "        const buttonEl =\n",
              "          document.querySelector('#df-54236aa1-521f-4d90-b942-e6a63a7aa04f button.colab-df-convert');\n",
              "        buttonEl.style.display =\n",
              "          google.colab.kernel.accessAllowed ? 'block' : 'none';\n",
              "\n",
              "        async function convertToInteractive(key) {\n",
              "          const element = document.querySelector('#df-54236aa1-521f-4d90-b942-e6a63a7aa04f');\n",
              "          const dataTable =\n",
              "            await google.colab.kernel.invokeFunction('convertToInteractive',\n",
              "                                                     [key], {});\n",
              "          if (!dataTable) return;\n",
              "\n",
              "          const docLinkHtml = 'Like what you see? Visit the ' +\n",
              "            '<a target=\"_blank\" href=https://colab.research.google.com/notebooks/data_table.ipynb>data table notebook</a>'\n",
              "            + ' to learn more about interactive tables.';\n",
              "          element.innerHTML = '';\n",
              "          dataTable['output_type'] = 'display_data';\n",
              "          await google.colab.output.renderOutput(dataTable, element);\n",
              "          const docLink = document.createElement('div');\n",
              "          docLink.innerHTML = docLinkHtml;\n",
              "          element.appendChild(docLink);\n",
              "        }\n",
              "      </script>\n",
              "    </div>\n",
              "  </div>\n",
              "  "
            ]
          },
          "metadata": {},
          "execution_count": 14
        }
      ]
    },
    {
      "cell_type": "markdown",
      "source": [
        "1. Supongamos que sólo contamos con los datos de los meses posteriores al atentado. Calcular la diferencia en la cantidad de robos de autos entre las cuadras con y sin instituciones judías para esos meses."
      ],
      "metadata": {
        "id": "0-InQw-ri-ih"
      }
    },
    {
      "cell_type": "code",
      "source": [
        "tpost = amia.totrob[(amia.instit == 1) & (amia.postjul ==1)].mean()\n",
        "cpost = amia.totrob[(amia.instit == 0) & (amia.postjul ==1)].mean()\n",
        "print(\"Robos en cuadras con instituciones judías post atentado: \" + str(tpost))\n",
        "print(\"Robos en cuadras sin instituciones judías post atentado: \" + str(cpost))\n",
        "print(\"Diferencia: \" + str(tpost - cpost))"
      ],
      "metadata": {
        "colab": {
          "base_uri": "https://localhost:8080/"
        },
        "id": "TW1quSAzRgXR",
        "outputId": "963ad92d-2aa1-49a9-bdc1-74f398a23fdf"
      },
      "execution_count": 15,
      "outputs": [
        {
          "output_type": "stream",
          "name": "stdout",
          "text": [
            "Robos en cuadras con instituciones judías post atentado: 0.03513513513513514\n",
            "Robos en cuadras sin instituciones judías post atentado: 0.10470798569725864\n",
            "Diferencia: -0.0695728505621235\n"
          ]
        }
      ]
    },
    {
      "cell_type": "markdown",
      "source": [
        "2. Supongamos ahora que contamos con datos para todos los meses pero solamente para las cuadras con instituciones judías. Calcular cómo varió la cantidad de robos antes y después del atentado."
      ],
      "metadata": {
        "id": "y_4sHcXnjL5l"
      }
    },
    {
      "cell_type": "code",
      "source": [
        "tpre = amia.totrob[(amia.instit == 1) & (amia.postjul ==0)].mean()\n",
        "print(\"Robos en cuadras con instituciones judías post atentado: \" + str(tpost))\n",
        "print(\"Robos en cuadras sin instituciones judías pre atentado: \" + str(tpre))\n",
        "print(\"Diferencia: \" + str(tpost - tpre))"
      ],
      "metadata": {
        "colab": {
          "base_uri": "https://localhost:8080/"
        },
        "id": "mt7WTnODTyAn",
        "outputId": "4226aac3-d9ba-4784-be49-5c05025fc16d"
      },
      "execution_count": 16,
      "outputs": [
        {
          "output_type": "stream",
          "name": "stdout",
          "text": [
            "Robos en cuadras con instituciones judías post atentado: 0.03513513513513514\n",
            "Robos en cuadras sin instituciones judías pre atentado: 0.11261261261261261\n",
            "Diferencia: -0.07747747747747748\n"
          ]
        }
      ]
    },
    {
      "cell_type": "markdown",
      "source": [
        "3. Ahora sí, contamos con todos los datos.\n",
        "\n",
        "  i. Calcular cuál era la diferencia en la cantidad de robos de autos entre cuadras con instituciones judías y cuadras sin instituciones judías antes del atentado.\n",
        "\n",
        "  ii. Calcular la variación en el número de robos de autos luego del atentado en las cuadras sin instituciones judías."
      ],
      "metadata": {
        "id": "uYxgYmItjUxT"
      }
    },
    {
      "cell_type": "code",
      "source": [
        "# diferencias previas controles y tratados, evolución controles\n",
        "cpre = amia.totrob[(amia.instit == 0) & (amia.postjul ==0)].mean()\n",
        "\n",
        "print(tpre - cpre)\n",
        "print(cpost - cpre)"
      ],
      "metadata": {
        "colab": {
          "base_uri": "https://localhost:8080/"
        },
        "id": "rFf804CyWeoA",
        "outputId": "cd467c16-e453-4c30-9a2a-d8c55d843977"
      },
      "execution_count": 17,
      "outputs": [
        {
          "output_type": "stream",
          "name": "stdout",
          "text": [
            "0.01745965273974809\n",
            "0.009555025824394117\n"
          ]
        }
      ]
    },
    {
      "cell_type": "code",
      "source": [
        "cpre = amia.totrob[(amia.instit == 0) & (amia.postjul ==0)].mean()\n",
        "\n",
        "print(\"Diferencia en diferencia (dif. después - dif. antes)): \" + str(  (tpost - cpost) - (tpre - cpre)  ))\n",
        "print(\"Diferencia en diferencia (dif. tratados - dif. controles)): \" + str(  (tpost - tpre) - (cpost-  cpre)  ))"
      ],
      "metadata": {
        "colab": {
          "base_uri": "https://localhost:8080/"
        },
        "id": "e4DntSyCT9lf",
        "outputId": "c6234831-1238-47a6-b035-d4dd965cdd14"
      },
      "execution_count": 18,
      "outputs": [
        {
          "output_type": "stream",
          "name": "stdout",
          "text": [
            "Diferencia en diferencia (dif. después - dif. antes)): -0.0870325033018716\n",
            "Diferencia en diferencia (dif. tratados - dif. controles)): -0.0870325033018716\n"
          ]
        }
      ]
    },
    {
      "cell_type": "markdown",
      "source": [
        "4. Calcular el efecto de asignar más policía sobre la cantidad de robos de autos usando el método de diferencias en diferencias. ¿Cuál es el efecto de poner más policía en los niveles de crimen? Estimar diferencias en diferencias como una regresión lineal que incluye variables binarias. ¿El efecto es significativamente distinto de cero?"
      ],
      "metadata": {
        "id": "QT2V2LsZjYS1"
      }
    },
    {
      "cell_type": "code",
      "source": [
        "smf.ols('totrob ~ instit + postjul + instit*postjul', data=amia).fit().summary().tables[1]"
      ],
      "metadata": {
        "colab": {
          "base_uri": "https://localhost:8080/",
          "height": 120
        },
        "id": "XeD5PFceUMn4",
        "outputId": "bf9e0ec8-13de-476a-c2c3-ed72a41070f8"
      },
      "execution_count": 19,
      "outputs": [
        {
          "output_type": "execute_result",
          "data": {
            "text/plain": [
              "<class 'statsmodels.iolib.table.SimpleTable'>"
            ],
            "text/html": [
              "<table class=\"simpletable\">\n",
              "<tr>\n",
              "         <td></td>           <th>coef</th>     <th>std err</th>      <th>t</th>      <th>P>|t|</th>  <th>[0.025</th>    <th>0.975]</th>  \n",
              "</tr>\n",
              "<tr>\n",
              "  <th>Intercept</th>      <td>    0.0952</td> <td>    0.005</td> <td>   19.119</td> <td> 0.000</td> <td>    0.085</td> <td>    0.105</td>\n",
              "</tr>\n",
              "<tr>\n",
              "  <th>instit</th>         <td>    0.0175</td> <td>    0.024</td> <td>    0.721</td> <td> 0.471</td> <td>   -0.030</td> <td>    0.065</td>\n",
              "</tr>\n",
              "<tr>\n",
              "  <th>postjul</th>        <td>    0.0096</td> <td>    0.006</td> <td>    1.518</td> <td> 0.129</td> <td>   -0.003</td> <td>    0.022</td>\n",
              "</tr>\n",
              "<tr>\n",
              "  <th>instit:postjul</th> <td>   -0.0870</td> <td>    0.031</td> <td>   -2.841</td> <td> 0.005</td> <td>   -0.147</td> <td>   -0.027</td>\n",
              "</tr>\n",
              "</table>"
            ]
          },
          "metadata": {},
          "execution_count": 19
        }
      ]
    }
  ]
}