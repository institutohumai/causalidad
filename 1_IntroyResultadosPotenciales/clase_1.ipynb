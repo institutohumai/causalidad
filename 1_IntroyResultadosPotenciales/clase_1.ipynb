{
  "cells": [
    {
      "cell_type": "code",
      "execution_count": null,
      "metadata": {
        "id": "MPJxba8mgj_m"
      },
      "outputs": [],
      "source": [
        "import matplotlib.pyplot as plt\n",
        "import numpy as np\n",
        "import pandas as pd\n",
        "\n",
        "# Para regresión lineal hay distintas opciones:\n",
        "from sklearn.linear_model import LinearRegression # sci-kit learn\n",
        "import statsmodels.api as sm # stats models"
      ]
    },
    {
      "cell_type": "markdown",
      "metadata": {
        "id": "RQsOZEMgmZVI"
      },
      "source": [
        "# Introducción a la Inferencia Causal\n",
        "\n",
        "_Bienvenides al maravilloso mundo del escepticismo causal._\n",
        "\n",
        "Establecer relaciones causales es esencial no solamente para entender el mundo que nos rodea, sino también para actuar en él. Las decisiones de política, de negocios o científicas muchas veces giran en torno a preguntas causales: ¿cuál fue el impacto de alguna política  sobre el resultado que se buscaba? ¿Ofrecer un cupón de descuento hará que los clientes sigan comprando en nuestra plataforma? ¿Las vacunas disminuyen la probabilidad de hospitalización? Sin embargo, los modelos estadísticos en general y de Machine Learning en particular no estiman relaciones causales sino que predicen en base a correlaciones, y pueden ser engañosos a la hora de responder este tipo de preguntas. Por otro lado, la extracción de conclusiones causales a partir de correlaciones ha sido desde siempre parte esencial de nuestra forma de dotar de sentido al mundo que nos rodea, y por supuesto, siempre estuvo detrás del avance del conocimiento científico y técnico.\n",
        "\n",
        "## Sobre qué es el curso\n",
        "\n",
        "Este curso trata sobre cuándo y cómo es posible extraer conclusiones causales (como por ejemplo medir el impacto de una política o decisión comercial) a partir de los datos con los que contamos. Más específicamente, vamos a ver cómo _formalizar_ el proceso de inferencia causal, a partir de _hipótesis causales claras_ y cómo explotar al máximo esas hipótesis para responder lo mejor posible nuestras preguntas. En el camino introduciremos algunos enfoques que nos permiten entender _qué es_ la causalidad, y este proceso de formalizar nuestros razonamientos causales quizás algún día nos permita _enseñarle a razonar causalmente a una máquina_.\n",
        "\n",
        "Si extraer conclusiones causales a partir de datos te suena difícil, vas por buen camino, pero este curso introductorio busca mostrarte que no es imposible. Si te suena fácil, _definitivamente_ tenés que hacer este curso, dado que probablemente no estés viendo la profundidad del problema al que nos enfrentamos."
      ]
    },
    {
      "cell_type": "markdown",
      "metadata": {
        "id": "2DjTZs_v8GIF"
      },
      "source": [
        "\n",
        "## Qué te vas a llevar\n",
        "\n",
        "* Entender la diferencia entre (a) predecir y (b) estimar un efecto causal.\n",
        "* Saber formalizar tus hipótesis causales y determinar si es posible o no determinar un efecto causal según qué datos tengas. (Concepto de _identificación causal_)\n",
        "* Conocer algunos de los principales métodos de estimación de efectos causales.\n",
        "* Vas a saber aplicar distintos métodos, entendiendo cómo funcionan para poder decidir cuál usar en función de las particularidades de tus datos.\n",
        "* Vas a conocer algunos ejemplos de aplicación en distintas áreas, y saber cómo realizar tu propio análisis de datos en Python, entendiendo las bases de cómo funcionan los métodos para poder interpretar la validez de los resultados.\n",
        "* Dada alguna pregunta causal a responder, nuestro objetivo es darte herramientas para pensar si esa pregunta se puede responder y cómo hacerlo en distintos escenarios: si pudieras controlar el mundo, si pudieras experimentar, si puedieras conseguir cualquier dato observacional, y finalmente, en los casos más usuales, cuando contás con ciertos datos observacionales dados.\n",
        "\n",
        "Además, esperamos que te lleves una nueva manera de interpretar los datos del mundo: una sana desconfianza respecto de las afirmaciones que se realizan en base a análisis estadísticos sin premisas causales claras.\n",
        "\n",
        "## Algunos conceptos que utilizaremos en el curso\n",
        "\n",
        "Vamos a usar varios conceptos de probabilidades y estadística. Acá hay algunas nociones que no vamos a tener tiempo de explicar, sino que vamos a dar por sabidas (con mayor o menor profundidad, eso dependerá de cada une):\n",
        "\n",
        "* Distribuciones de probabilidad\n",
        "* Probabilidad condicional\n",
        "* Valores medios/esperanzas\n",
        "* Varianza, desviación estándar\n",
        "* Tests de hipótesis\n",
        "* Regresión lineal\n",
        "\n",
        "Si no te sentís muy seguro con alguno de estos conceptos, es probable que de todas formas puedas seguir y aprovechar el curso. Sin embargo en ese caso te invitamos a complementar el curso con [las clases de Probabilidad y Estadística del curso Matemáticas para IA de Humai](https://github.com/institutohumai/cursos-python/tree/master/MatematicasParaIA)."
      ]
    },
    {
      "cell_type": "markdown",
      "metadata": {
        "id": "eErOCV2KsYQe"
      },
      "source": [
        "---\n",
        "# Parte I: Qué es la causalidad y por qué importa\n",
        "\n",
        "## I.i ¿Por qué importa?\n",
        "\n",
        "Primero que nada, [sirve para ganar premios Nobel en Economía](https://www.nobelprize.org/prizes/economic-sciences/2021/press-release/). Si eso no te convence, tiene sentido, pero queremos que sepas que este tema está _extremadamente a la moda_. Igual tenemos mejores razones.\n",
        "\n",
        "### Toma de decisiones\n",
        "\n",
        "\n",
        "El aprendizaje automático en general se orienta a **problemas de predicción**: con algunas covariables dadas, queremos predecir el valor de una variable de resultado, nuestro principal objetivo es encontrar el famoso $\\hat{Y}$ -las ventas el año próximo, si una imagen es perro o gato, etc.- de la mejor manera posible. Sin embargo, a la hora de tomar decisiones, muchas veces queremos responder a preguntas de otro tipo: ¿qué pasa con el resultado si implemento A versus si no implemento A, es decir, si cambia el valor de la variable \"A\"? Para responder ese tipo de **preguntas que comparan escenarios contrafácticos** -qué pasaría si tomo alguna decisión versus si no la tomo- aparece la inferencia causal. \n",
        "\n",
        "\n",
        "La inferencia causal se usa cada vez más en **empresas** como [Uber](https://www.uber.com/en-UY/blog/causal-inference-at-uber/) o [Microsoft](https://www.microsoft.com/en-us/research/group/causal-inference/), por ejemplo para responder si una campaña publicitaria via email contribuye a aumentar las ventas o si las recomendaciones de los algoritmos afectan de determinada manera las decisiones de compra. También se usa a la hora de decidir qué **políticas públicas** implementar o cómo mejorar su diseño. Gobiernos, universidades y organismos internacionales como el [Banco Mundial](https://www.worldbank.org/en/research/dime/research) llevan a cabo **evaluaciones de impacto** de distintas políticas para responder a preguntas como por ejemplo si otorgar subsidios al transporte mejora el acceso a oportunidades laborales o si un programa de tutorías mejora el rendimiento escolar de los estudiantes. \n",
        "\n",
        "Muchas de las estrategias de inferencia causal que veremos en el curso tienen su origen en la econometría, que viene a ser algo así como la \"estadística de la economía\". Las limitaciones a la hora de experimentar en las ciencias sociales han orientado gran parte de los esfuerzos a desarrollar estrategias teóricas y estadísticas que permitan hacer análisis del tipo causa-consecuencia y poder evaluar y asistir decisiones de política. \n",
        "\n",
        "\n",
        "### Inteligencia artificial\n",
        "\n",
        "Alguien como Judea Pearl, el principal impulsor (y quizás _creador_, aunque eso sea discutible) del enfoque de grafos causales (ver Clase 2), no dudará en afirmar que la causalidad está en la base de nuestra capacidad de misma de razonar como seres humanos. De hecho, una de sus afirmaciones es que cuando razonamos sobre asociaciones entre distintos eventos, nuestra mente está preparada para identificar y recordar únicamente las asociaciones _causales_ entre variables, y que esto es lo que da lugar a muchas las famosas paradojas de la teoría de probabilidades, dependencias probabilísticas que son ciertas pero nos parecen raras o \"espurias\". Una de ellas es la Paradoja de Simpson, sobre la que hablaremos en esta clase, y otra es la Paradoja de Berkson, que hará su aparición en la clase próxima.\n",
        "\n",
        "¿Por qué nuestras mentes estarían tan \"cableadas\" para pensar en relaciones causales por encima de las meramente correlacionales? Una buena razón sería que _las correlaciones que son causales son más estables en el tiempo y ante cambios en el entorno_. En palabras de Pearl, traducidas de su importante libro _Causality_,\n",
        "\n",
        "> ... las relaciones causales son _ontológicas_, al describir vínculos físicos objetivos de nuestro mundo, mientras que las relaciones probabilísticas son _epistémicas_, reflejando lo que sabemos o creemos sobre el mundo.\n",
        "\n",
        "Tiene sentido pues que la capacidad de _generalizar_ de un modelo de inteligencia artificial y la capacidad de _transferir_ el aprendizaje a una tarea nueva dependan de la capacidad del modelo de aislar los _mecanismos causales_ correctos (o más probables) a partir de los datos. Sin proponer que algunas correlaciones corresponden a mecanismos causales, mientras que otras no, es imposible saber qué correlaciones se mantendrían y cuáles serían destruidas al modificarse algún factor del entorno generador de los datos.\n",
        "\n",
        "Actualmente hay muchísimo interés en las posibilidades de combinar o aumentar las capacidades de los modelos de Machine Learning con métodos de inferencia causal. Dejamos algunas referencias al final de la clase.\n",
        "\n",
        "---\n",
        "## I.ii ¿Qué es la causalidad?\n",
        "\n",
        "Esta es una pregunta difícil que aqueja a los filósofos desde la Antigüedad. Así que mejor empecemos por lo que _no_ es...\n",
        "\n",
        "<center>\n",
        "<img src=\"https://storage.googleapis.com/humai-datasets/imagenes/causalidad/1_IntroyResultadosPotenciales/xkcd_correlation.png\" style=\"margin:auto\" height=150/></center>\n",
        "\n",
        "### Causalidad no es correlación\n",
        "\n",
        "(Mejor dicho, _correlación no implica causalidad_.)\n",
        "\n",
        "Si entramos a [este famoso sitio web](https://www.tylervigen.com/spurious-correlations) podremos disfrutar rápidamente de algunos gráficos muy cómicos, que parecen sugerir una relación fáctica entre variables realmente diferentes. Por ejemplo, este gráfico muestra simultáneamente la cantidad anual de personas que murieron ahogadas en una pileta en Estados Unidos versus la cantidad de películas estrenadas ese año en las que aparece Nicolas Cage:"
      ]
    },
    {
      "cell_type": "markdown",
      "metadata": {
        "id": "BvD4oALNsbjZ"
      },
      "source": [
        "<center><img src=\"https://storage.googleapis.com/humai-datasets/imagenes/causalidad/1_IntroyResultadosPotenciales/spurious_correlations_nicholas_cage.png\" height=350 style=\"margin:auto\"/></center>"
      ]
    },
    {
      "cell_type": "markdown",
      "metadata": {
        "id": "DdZ3Ao-NmRYv"
      },
      "source": [
        "Estos ejemplos de _correlaciones espurias_ nos muestran que dos variables pueden aparecer asociadas, es decir que \"se mueven conjuntamente\", en este caso en el tiempo, incluso cuando lo más plausible es que no tengan absolutamente nada que ver (salvo quizá para _haters_ empedernidos de Nicolas Cage). Dicho sea de paso, también son un buen ejemplo de lo engañosos e incoherentes que pueden ser los gráficos con dos ejes verticales superpuestos (Las escalas, que hacen que 20 ahogamientos se correspondan con 2 películas, están elegidas para que visualmente parezca haber más correlación).\n",
        "\n",
        "Pero ¿Qué es la correlación exactamente? Quizás algunes de ustedes conozcan el _Cuarteto de Anscombe_, o la más reciente y sorprendente [_Docena del Datasaurio_](https://www.autodesk.com/research/publications/same-stats-different-graphs), creada por Matejka y Fitzmaurice:\n",
        "\n",
        "<center>\n",
        "<img src=\"https://storage.googleapis.com/humai-datasets/imagenes/causalidad/1_IntroyResultadosPotenciales/anscombe.png\" style=\"margin:auto\" height=200/>\n",
        "<img src=\"https://storage.googleapis.com/humai-datasets/imagenes/causalidad/1_IntroyResultadosPotenciales/datasaur.gif\" style=\"margin:auto\" height=200/>\n",
        "</center>\n",
        "\n",
        "Estos conjuntos de datos sintéticos tienen la peculiaridad de tener los mismos valores de los principales estadísticos sumarios: promedios, desviaciones estándar y el _coeficiente de correlación de Pearson_, muchas veces mal llamado meramente \"correlación\".\n",
        "\n",
        "Estos ejemplos se usan típicamente para enfatizar la importancia de visualizar nuestros datos antes de realizar análisis. También pueden utilizarse para enfatizar que la correlación presente en los datos puede ser altamente _no lineal_, por lo cual una medida como la correlación de Pearson, que mide correlación _lineal_, puede resultar engañosa. Pero hay medidas de correlación más fidedignas en el caso no lineal (como por ejemplo, la _entropía relativa_, también llamada _divergencia de Kullback-Leibler_).\n",
        "\n",
        "Detrás de todas estas nociones de correlación (o \"asociación\", como se dice a veces para distinguir de la correlación puramente lineal) hay un concepto fundamental, que es el de la **dependencia probabilística**. Dadas dos variables aleatorias $X, Y$, decimos que son **probabilísticamente independientes** si su distribución de probabilidad conjunta se factoriza como $p(X, Y) = p(X) p(Y)$. Equivalentemente, condicionar sobre una de las dos variables no afecta la distribución de valores de la otra:\n",
        "\n",
        "$$ p(X | Y=y) = p(X) $$\n",
        "$$ p(Y | X=x) = p(Y) $$\n",
        "\n",
        "Vamos a usar una notación especial para esta situación de independencia entre $X$ e $Y$: \n",
        "\n",
        "$$\\newcommand{\\indep}{\\perp \\!\\!\\! \\perp} X \\indep Y$$\n",
        "\n",
        "También usaremos fuertemente el concepto de **independencia condicional**: $X$ es independiente de $Y$ _dado_ $Z$ (escribimos $X \\indep Y | Z$) si $p(X, Y | Z) = p(X | Z) p(Y | Z)$. Volveremos sobre esto en la Clase 2, pero por ahora es importante que **cuando hablamos de correlación, no nos referimos solamente a la correlación lineal** sino que **dos variables $X$, $Y$ están correlacionadas en alguna medida siempre que $p(X, Y) \\neq p(X) p(Y)$**.\n",
        "\n",
        "En el fondo, todo análisis de inferencia estadística asume que nuestros datos son muestras extraídas de una distribución de probabilidad conjunta $p(X_1, X_2, \\dots)$ (donde las $X_i$ son nuestras variables o features de interés). Esta distribución de probabilidad viene a ser nuestro modelo del \"mundo real\", y nuestro objetivo será estimar, a través de los datos, ciertas características de esa distribución. Una de las cosas a llevarse de este curso es que **este panorama es incompleto, dado que ignora por completo la causalidad**. Para poder pasar de inferencia estadística a inferencia causal, es indispensable añadir una **nueva capa de modelización**, que **codifica explícitamente nuestras hipótesis sobre las relaciones causales entre las variables presentes**. Para quienes hayan oído hablar de _redes bayesianas_, esta es la diferencia entre una red bayesiana y una red causal (lo veremos en la Clase 2).\n",
        "\n",
        "---\n",
        "Dijimos que correlación no implica causalidad, pero por el contrario, **si veo correlación, es más probable que haya causalidad que si no observo nada**. De hecho el filósofo Hans Reichenbach formuló a mediados del Siglo XX el [_Principio de la Causa Común_](https://plato.stanford.edu/entries/physics-Rpcc/), que lleva su nombre, según el cual **dadas dos variables correlacionadas, o bien una es causa de la otra, o bien al revés, o bien ambas tienen una causa común**. Es decir que **la correlación es nuestra herramienta para detectar causalidad, y este curso se trata de cómo _identificar_ cuándo correlación _sí_ implica causalidad.**\n",
        "\n",
        "Pero entonces ¿Qué podemos decir sobre lo que _sí_ es la causalidad?\n",
        "\n",
        "### Los mundos contrafácticos\n",
        "\n",
        "Una forma de entender la causalidad tiene que ver con entender preguntas del tipo \"¿Qué habría pasado si...?\", que son el ejemplo más paradigmático del **pensamiento contrafáctico**. Muchas veces se dice al pasar que no tiene sentido preguntarse por contrafácticos, dado que es imposible saber lo que habría pasado. En verdad, esto no es del todo correcto: es verdad que en la amplia mayoría de las situaciones no tenemos herramientas para saber con certeza qué habría pasado, pero cada vez que hacemos una afirmación causal del estilo \"salí con paraguas porque estaba lloviendo\", estamos afirmando que tenemos confianza sobre qué habríamos hecho si no hubiera estado lloviendo y todos los demás aspectos del mundo se hubieran mantenido constantes (en particular, confiamos en que _no_ habríamos salido con paraguas en tal caso).\n",
        "\n",
        "Hoy en día, en filosofía se habla bastante de las [_teorías contrafácticas de la causalidad_](https://plato.stanford.edu/entries/causation-counterfactual/). Un filósofo diría que este curso no da una definición completamente rigurosa de _qué es_ la causalidad, y eso está muy bien, porque no somos filósofes ni nos interesa alcanzar ese grado de rigor conceptual. Sin embargo la noción de causalidad que vamos a manejar siempre estará relacionada con la idea de los mundos contrafácticos (y de hecho algunas de las cosas que veremos son relevantes a la discusión filosófica contemporánea)."
      ]
    },
    {
      "cell_type": "markdown",
      "metadata": {
        "id": "8ifNtkWHCegV"
      },
      "source": [
        "---\n",
        "Para terminar esta primera parte de la clase, consideremos una de esas famosas \"paradojas probabilísticas\": la Paradoja de Simpson. Este ejemplo es tan bueno que es casi infaltable en un curso sobre causalidad.\n",
        "\n",
        "## Paradoja de Simpson\n",
        "\n",
        "Vamos a tomar un ejemplo clásico: [un cierto estudio médico](https://www.ncbi.nlm.nih.gov/pmc/articles/PMC1339981/) de 1986 en el que se evalúan distintos tratamientos para la eliminación de cálculos renales. Se puede ver allí esta tabla que compara los porcentajes de éxito de dos tratamientos, A y B, al ser aplicados sobre dos tipos de pacientes: aquellos con cálculos renales más bien pequeños y aquellos con cálculos más bien grandes.\n",
        "\n",
        "<center><img src=\"https://storage.googleapis.com/humai-datasets/imagenes/causalidad/1_IntroyResultadosPotenciales/simpson_calculos_renales.png\" style=\"margin:auto\" height=150/></center>\n",
        "\n",
        "Vemos que el tratamiento A parece preferible al B tanto para el caso de cálculos pequeños como cálculos grandes. Sin embargo, la última fila nos muestra que al considerar a todos los pacientes juntos, sin distinguir por la naturaleza de su problema, ¡El tratamiento B para ser preferible sobre el A!\n",
        "\n",
        "¿Qué está pasando?\n",
        "\n",
        "En primer lugar, podemos convencernos de que **matemáticamente no hay nada incorrecto**. Uno puede hacer las cuentas y convencerse de que están bien, no hay nada inconsistente.\n",
        "\n",
        "Ante esto, **uno podría \"rendirse\" y declarar que las probabilidades son intrínseca e inevitablemente contraintuitivas**. Pero no podemos quedarnos tranquilos con esto. ¿Cuál es el mejor tratamiento? No puede depender de cómo hacemos la cuenta. Esto es grave porque, a priori, desagregar nuestros datos de cualquier otra forma (como por ejemplo por género) podría nuevamente dar vuelta la conclusión. No habría forma de sacar conclusiones de nuestros datos.\n",
        "\n",
        "Lo que resuelve la aparente paradoja es que si bien la naturaleza de la correlación cambia una y otra vez, **lo que estamos buscando no es correlación, sino causalidad**. Y lo que determina cuál es el análisis correcto es cuál es nuestra hipótesis causal.\n",
        "\n",
        "Notemos que la mayoría de las personas que recibieron el tratamiento A tenían cálculos renales grandes (lo cual en sí es una condición de salud menos favorable) mientras que la mayoría de las personas que recibieron el tratamiento B tenían cálculos renales pequeños. ¿Cómo podemos interpretar esto?\n",
        "\n",
        "**Opción 1**: la asignación de un tratamiento u otro causa el tamaño de los cálculos. Esto podría pasar por ejemplo si el tratamiento A es escaso: las personas tardarían más en acceder a él y por lo tanto cuando son tratadas sus cálculos renales serían más grandes. Diagramáticamente tendríamos lo siguiente:"
      ]
    },
    {
      "cell_type": "code",
      "execution_count": null,
      "metadata": {
        "colab": {
          "base_uri": "https://localhost:8080/",
          "height": 176
        },
        "id": "6a1RkRZqKTux",
        "outputId": "daac7830-b4ce-4ada-ceba-0f03c9a7e019"
      },
      "outputs": [
        {
          "data": {
            "image/svg+xml": "<?xml version=\"1.0\" encoding=\"UTF-8\" standalone=\"no\"?>\n<!DOCTYPE svg PUBLIC \"-//W3C//DTD SVG 1.1//EN\"\n \"http://www.w3.org/Graphics/SVG/1.1/DTD/svg11.dtd\">\n<!-- Generated by graphviz version 2.40.1 (20161225.0304)\n -->\n<!-- Title: %3 Pages: 1 -->\n<svg width=\"255pt\" height=\"116pt\"\n viewBox=\"0.00 0.00 255.34 116.00\" xmlns=\"http://www.w3.org/2000/svg\" xmlns:xlink=\"http://www.w3.org/1999/xlink\">\n<g id=\"graph0\" class=\"graph\" transform=\"scale(1 1) rotate(0) translate(4 112)\">\n<title>%3</title>\n<polygon fill=\"#ffffff\" stroke=\"transparent\" points=\"-4,4 -4,-112 251.3408,-112 251.3408,4 -4,4\"/>\n<!-- T -->\n<g id=\"node1\" class=\"node\">\n<title>T</title>\n<ellipse fill=\"none\" stroke=\"#000000\" cx=\"55.2451\" cy=\"-18\" rx=\"55.4913\" ry=\"18\"/>\n<text text-anchor=\"middle\" x=\"55.2451\" y=\"-14.3\" font-family=\"Times,serif\" font-size=\"14.00\" fill=\"#000000\">Tratamiento</text>\n</g>\n<!-- Y -->\n<g id=\"node2\" class=\"node\">\n<title>Y</title>\n<ellipse fill=\"none\" stroke=\"#000000\" cx=\"199.2451\" cy=\"-18\" rx=\"48.1917\" ry=\"18\"/>\n<text text-anchor=\"middle\" x=\"199.2451\" y=\"-14.3\" font-family=\"Times,serif\" font-size=\"14.00\" fill=\"#000000\">Resultado</text>\n</g>\n<!-- T&#45;&gt;Y -->\n<g id=\"edge1\" class=\"edge\">\n<title>T&#45;&gt;Y</title>\n<path fill=\"none\" stroke=\"#000000\" d=\"M110.5074,-18C120.3969,-18 130.7324,-18 140.7101,-18\"/>\n<polygon fill=\"#000000\" stroke=\"#000000\" points=\"140.9447,-21.5001 150.9447,-18 140.9447,-14.5001 140.9447,-21.5001\"/>\n</g>\n<!-- X -->\n<g id=\"node3\" class=\"node\">\n<title>X</title>\n<ellipse fill=\"none\" stroke=\"#000000\" cx=\"127.2451\" cy=\"-90\" rx=\"97.4827\" ry=\"18\"/>\n<text text-anchor=\"middle\" x=\"127.2451\" y=\"-86.3\" font-family=\"Times,serif\" font-size=\"14.00\" fill=\"#000000\">Tamaño de los cálculos</text>\n</g>\n<!-- T&#45;&gt;X -->\n<g id=\"edge3\" class=\"edge\">\n<title>T&#45;&gt;X</title>\n<path fill=\"none\" stroke=\"#000000\" d=\"M72.6743,-35.4292C81.5624,-44.3173 92.5303,-55.2852 102.2965,-65.0514\"/>\n<polygon fill=\"#000000\" stroke=\"#000000\" points=\"99.9302,-67.6349 109.4762,-72.2311 104.88,-62.6851 99.9302,-67.6349\"/>\n</g>\n<!-- X&#45;&gt;Y -->\n<g id=\"edge2\" class=\"edge\">\n<title>X&#45;&gt;Y</title>\n<path fill=\"none\" stroke=\"#000000\" d=\"M145.0429,-72.2022C154.069,-63.1761 165.1668,-52.0783 174.9647,-42.2804\"/>\n<polygon fill=\"#000000\" stroke=\"#000000\" points=\"177.5517,-44.6432 182.1479,-35.0972 172.6019,-39.6934 177.5517,-44.6432\"/>\n</g>\n</g>\n</svg>\n",
            "text/plain": [
              "<graphviz.dot.Digraph at 0x7faeed9bb250>"
            ]
          },
          "execution_count": 3,
          "metadata": {},
          "output_type": "execute_result"
        }
      ],
      "source": [
        "#@title {display-mode: \"form\"}\n",
        "from graphviz import Digraph\n",
        "from IPython.display import display\n",
        "\n",
        "#Especificamos engine='neato' para poder usar argumento `pos` en nodos\n",
        "dot = Digraph(engine='neato')\n",
        "dot.node('T', 'Tratamiento', pos='1,1!')\n",
        "dot.node('Y', 'Resultado', pos='3,1!')\n",
        "dot.node('X', 'Tamaño de los cálculos', pos='2,2!')\n",
        "dot.edges(['TY', 'XY', 'TX'])\n",
        "dot\n"
      ]
    },
    {
      "cell_type": "markdown",
      "metadata": {
        "id": "kiAAFb3jKjD4"
      },
      "source": [
        "En este diagrama, que matemáticamente es un _grafo_, las relaciones causales se muestran como flechas. En la Clase 2 veremos con más detalle esta forma de representar relaciones causales mediante grafos. Por ahora lo usamos intuitivamente.\n",
        "\n",
        "Si este es el caso, entonces _asignar el tratamiento A a un paciente tiene un efecto negativo_, pues efectivamente retrasa el tiempo hasta que el paciente puede acceder a algún tratamiento. Lo que nos muestran los datos entonces es que el tratamiento A es mejor que el B una vez que son administrados, pero en definitiva termina siendo _peor_ que el B porque justamente genera retraso en el acceso a tratamiento por parte de los pacientes. **En este caso es preferible el tratamiento B**.\n",
        "\n",
        "**Opción 2**: cuando un paciente tiene un problema más severo (cálculos más grandes), se decide aplicarle el tratamiento A con mayor frecuencia que el tratamiento B. En este caso, el tamaño de los cálculos causa la asignación de tratamiento:"
      ]
    },
    {
      "cell_type": "code",
      "execution_count": null,
      "metadata": {
        "colab": {
          "base_uri": "https://localhost:8080/",
          "height": 176
        },
        "id": "TGUl8QfTKifm",
        "outputId": "db065c4d-ca66-4a2e-c1ee-f812442a400b"
      },
      "outputs": [
        {
          "data": {
            "image/svg+xml": "<?xml version=\"1.0\" encoding=\"UTF-8\" standalone=\"no\"?>\n<!DOCTYPE svg PUBLIC \"-//W3C//DTD SVG 1.1//EN\"\n \"http://www.w3.org/Graphics/SVG/1.1/DTD/svg11.dtd\">\n<!-- Generated by graphviz version 2.40.1 (20161225.0304)\n -->\n<!-- Title: %3 Pages: 1 -->\n<svg width=\"255pt\" height=\"116pt\"\n viewBox=\"0.00 0.00 255.34 116.00\" xmlns=\"http://www.w3.org/2000/svg\" xmlns:xlink=\"http://www.w3.org/1999/xlink\">\n<g id=\"graph0\" class=\"graph\" transform=\"scale(1 1) rotate(0) translate(4 112)\">\n<title>%3</title>\n<polygon fill=\"#ffffff\" stroke=\"transparent\" points=\"-4,4 -4,-112 251.3408,-112 251.3408,4 -4,4\"/>\n<!-- T -->\n<g id=\"node1\" class=\"node\">\n<title>T</title>\n<ellipse fill=\"none\" stroke=\"#000000\" cx=\"55.2451\" cy=\"-18\" rx=\"55.4913\" ry=\"18\"/>\n<text text-anchor=\"middle\" x=\"55.2451\" y=\"-14.3\" font-family=\"Times,serif\" font-size=\"14.00\" fill=\"#000000\">Tratamiento</text>\n</g>\n<!-- Y -->\n<g id=\"node2\" class=\"node\">\n<title>Y</title>\n<ellipse fill=\"none\" stroke=\"#000000\" cx=\"199.2451\" cy=\"-18\" rx=\"48.1917\" ry=\"18\"/>\n<text text-anchor=\"middle\" x=\"199.2451\" y=\"-14.3\" font-family=\"Times,serif\" font-size=\"14.00\" fill=\"#000000\">Resultado</text>\n</g>\n<!-- T&#45;&gt;Y -->\n<g id=\"edge1\" class=\"edge\">\n<title>T&#45;&gt;Y</title>\n<path fill=\"none\" stroke=\"#000000\" d=\"M110.5074,-18C120.3969,-18 130.7324,-18 140.7101,-18\"/>\n<polygon fill=\"#000000\" stroke=\"#000000\" points=\"140.9447,-21.5001 150.9447,-18 140.9447,-14.5001 140.9447,-21.5001\"/>\n</g>\n<!-- X -->\n<g id=\"node3\" class=\"node\">\n<title>X</title>\n<ellipse fill=\"none\" stroke=\"#000000\" cx=\"127.2451\" cy=\"-90\" rx=\"97.4827\" ry=\"18\"/>\n<text text-anchor=\"middle\" x=\"127.2451\" y=\"-86.3\" font-family=\"Times,serif\" font-size=\"14.00\" fill=\"#000000\">Tamaño de los cálculos</text>\n</g>\n<!-- X&#45;&gt;T -->\n<g id=\"edge3\" class=\"edge\">\n<title>X&#45;&gt;T</title>\n<path fill=\"none\" stroke=\"#000000\" d=\"M109.4473,-72.2022C100.4876,-63.2425 89.4865,-52.2414 79.7419,-42.4968\"/>\n<polygon fill=\"#000000\" stroke=\"#000000\" points=\"82.1357,-39.9408 72.5897,-35.3446 77.1859,-44.8906 82.1357,-39.9408\"/>\n</g>\n<!-- X&#45;&gt;Y -->\n<g id=\"edge2\" class=\"edge\">\n<title>X&#45;&gt;Y</title>\n<path fill=\"none\" stroke=\"#000000\" d=\"M145.0429,-72.2022C154.069,-63.1761 165.1668,-52.0783 174.9647,-42.2804\"/>\n<polygon fill=\"#000000\" stroke=\"#000000\" points=\"177.5517,-44.6432 182.1479,-35.0972 172.6019,-39.6934 177.5517,-44.6432\"/>\n</g>\n</g>\n</svg>\n",
            "text/plain": [
              "<graphviz.dot.Digraph at 0x7faeed9dca50>"
            ]
          },
          "execution_count": 4,
          "metadata": {},
          "output_type": "execute_result"
        }
      ],
      "source": [
        "#@title {display-mode: \"form\"}\n",
        "from graphviz import Digraph\n",
        "from IPython.display import display\n",
        "\n",
        "#Especificamos engine='neato' para poder usar argumento `pos` en nodos\n",
        "dot = Digraph(engine='neato')\n",
        "dot.node('T', 'Tratamiento', pos='1,1!')\n",
        "dot.node('Y', 'Resultado', pos='3,1!')\n",
        "dot.node('X', 'Tamaño de los cálculos', pos='2,2!')\n",
        "dot.edges(['TY', 'XY', 'XT'])\n",
        "dot\n"
      ]
    },
    {
      "cell_type": "markdown",
      "metadata": {
        "id": "jD8pSTZjLgRI"
      },
      "source": [
        "Si esto es así, entonces al analizar los porcentajes de éxito agregados estaríamos siendo injustos con el tratamiento A: ¡le va peor porque le tocan los peores casos! Para eliminar este efecto \"injusto\", lo que tenemos que hacer es comparar los resultados entre tratamientos _a severidad constante_. Y al hacerlo vemos que el tratamiento A es mejor en todos los casos. Por lo tanto **en este caso es preferible el tratamiento A**.\n",
        "\n",
        "**Otro ejemplo**: en el gráfico de abajo (empleado por Judea Pearl en algunas de sus charlas divulgativas) podemos ver cómo se ve este fenómeno para cantidades _continuas_."
      ]
    },
    {
      "cell_type": "markdown",
      "metadata": {
        "id": "AKtOmUDmDy6l"
      },
      "source": [
        "<center><img src=\"https://storage.googleapis.com/humai-datasets/imagenes/causalidad/1_IntroyResultadosPotenciales/simpson_cholesterol_age.png\" style=\"margin:auto\"/></center>"
      ]
    },
    {
      "cell_type": "markdown",
      "metadata": {
        "id": "LE9JyZxqOLPI"
      },
      "source": [
        "**Ejercicio de lectura activa**: ¿Podemos interpretar estos datos de dos maneras diferentes, al igual que en el ejemplo anterior? ¿Hay alguna que podamos descartar a priori?"
      ]
    },
    {
      "cell_type": "code",
      "execution_count": null,
      "metadata": {
        "id": "JmC10tQyObBC"
      },
      "outputs": [],
      "source": [
        "# Mi respuesta aquí\n",
        "\n",
        "print(\"\")"
      ]
    },
    {
      "cell_type": "markdown",
      "metadata": {
        "id": "OQqxHawRNXeV"
      },
      "source": [
        "----\n",
        "\n",
        "A continuación vamos a considerar varias situaciones que se parecen un poco a estas, pero lo vamos a hacer con un montón de conceptos y herramientas de análisis mucho más sutiles, a tal punto que quizás para el final de la clase ya no no les parezca que haya algo \"paradójico\" en absoluto."
      ]
    },
    {
      "cell_type": "markdown",
      "metadata": {
        "id": "ldAAvPi6scZF"
      },
      "source": [
        "---\n",
        "\n",
        "# Parte II: Marco conceptual: resultados potenciales (o _potential outcomes_)\n",
        "\n",
        "Este marco trata de responder a la pregunta de si \"A\" causa \"B\" a partir de un contrafáctico: comparar \"B dado A\" con \"B dado no A\". La pregunta usual que uno se suele hacer.\n",
        "\n",
        "Vamos a introducir algunos conceptos que son parte del modelo causal de Neyman-Rubin. \n"
      ]
    },
    {
      "cell_type": "markdown",
      "metadata": {
        "id": "D2cyD3IllTR2"
      },
      "source": [
        "### Recordando esperanzas condicionales\n",
        "\n",
        "Para entender causalidad, es **clave** entender el concepto de probabilidad condicional y esperanza condicional.\n",
        "\n",
        "* La probabilidad condicional $P(Y|X)$ es la probabilidad del evento Y **dado** que sabemos que sucedió el evento X\n",
        "\n",
        "* La esperanza condicional es la esperanza de los valores de Y cuando X toma determinado valor.  Un estimador de las esperanza condicional es el famoso \"promedio por grupos\". Tomar el promedio de Y para un grupo definido según X. Por ejemplo, el peso promedio según la edad. *Ejemplo sencillo.* Supongamos esta población de 4 personas cuyas iniciales son A, B, C y D, para las que conocemos su edad y su peso. Definimos la variable X = edad, Y = peso. Veamos cómo es la esperanza condicional:"
      ]
    },
    {
      "cell_type": "markdown",
      "metadata": {
        "id": "rX5IkJgbSlfM"
      },
      "source": [
        "<center><img src=\"https://storage.googleapis.com/humai-datasets/imagenes/causalidad/1_IntroyResultadosPotenciales/esperanza_condicional.png\" style=\"margin:auto\"/></center>\n"
      ]
    },
    {
      "cell_type": "markdown",
      "metadata": {
        "id": "PLD8mOLhSZRK"
      },
      "source": [
        "### Empecemos\n",
        "\n",
        "Supongamos que tuvimos una herida grave, y estamos pensando si ir o no al hospital. Queremos saber **si una visita al hospital tendrá un efecto positivo sobre nuestra salud.** \n",
        "\n",
        "<center>IR AL HOSPITAL $\\rightarrow$ SALUD LUEGO DE IR AL HOSPITAL\n",
        "</center>\n",
        "\n",
        "Lo que nos estamos preguntando es: **¿lo que sucede si voy al hospital será mejor a lo que sucede si no voy al hospital?** Queremos comparar el **resultado potencial** de ir al hospital, contra el resultado potencial de no ir. Pero atención, para comparar entre dos resultados, debemos poder observarlos.\n",
        "\n",
        "_Algo de notación._ Tenemos una **variable aleatoria** de resultado que llamaremos $Y_i$, un indicador de salud luego de ir al hospital. Este resultado puede variar en función de si vamos o no vamos al hospital, es decir, en función del **tratamiento**, que llamaremos $T_i$:\n",
        "\n",
        "* Tratamiento del individuo $i$     \n",
        "<center>\n",
        "\\begin{equation}\n",
        "    T_i=\n",
        "    \\begin{cases}\n",
        "      1 & \\text{si fue al hospital} \\\\\n",
        "      0 & \\text{si no fue al hospital}\n",
        "    \\end{cases}\n",
        "  \\end{equation}\n",
        "</center>\n",
        "\n",
        "* Resultado observado para el individuo $i$    \n",
        "<center> \n",
        "$ Y_i= \\text{indicador de mala salud} $\n",
        "</center>\n",
        "\n",
        "* Resultados potenciales para el individuo i \n",
        "<center>\n",
        "\\begin{equation}\n",
        "   Y_i(T_i) =\n",
        "    \\begin{cases}\n",
        "      Y_i(T_i = 1) = Y_i(1) & \\text{resultado potencial de ir al hospital} \\\\\n",
        "      Y_i(T_i = 0) = Y_i(0) & \\text{resultado potencial de no ir al hospital}\n",
        "    \\end{cases}\n",
        "  \\end{equation}\n",
        "</center>\n",
        "<br />\n",
        "\n",
        "\n",
        "*Idealmente*. Por suerte somos Marty McFly y tenemos el DeLorean. Esto nos permite *observar ambos resultados potenciales*, el de ir y el de no ir al hospital:\n",
        "1. Implementamos el tratamiento, vamos al hospital. Observamos nuestra salud luego de haber ido al hospital. **Resultado observado** para Marty: $Y_{Marty}(T_{Marty} = 1)$, es decir, su salud dado que fue al hospital.\n",
        "1. Con el DeLorean volvemos al pasado, a las **exactas mismas circunstancias**. Esta vez no implementamos el tratamiento, NO vamos al hospital. Observamos nuestra salud luego de no haber ido al hospital. **Resultado observado** para Marty: $Y_{Marty}(T_{Marty} = 0)$, es decir, su salud dado que NO fue al hospital.\n",
        "\n",
        "\n",
        "Reiteramos: debemos mantener constante (*ceteris paribus*) todo el resto de las circunstancias. Necesitamos una dimensión paralela, donde lo único que cambia es el hecho de ir o no ir al hospital. Si, por ejemplo, cuando volvemos el tiempo atrás además nos ponemos alcohol en la herida, y luego observamos otro resultado, no podemos asegurarnos de que haya sido el hecho de ir al hospital y no el alcohol el responsable del resultado que observamos.\n",
        "\n",
        "Genial, resultados que observamos, resultados que podemos comparar. Como tenemos el DeLorean, podemos **observar y comparar ambos resultados potenciales**. El efecto individual de tratamiento (**ITE**, por _individual treatment effect_) para Marty será la diferencia en el resultado de salud cuando Marty va al hospital y el resultado de salud cuando Marty no va al hospital:\n",
        "\n",
        "\n",
        "\\begin{equation}\n",
        " ITE_{Marty} =  \\underbrace{Y_{Marty}(T_{Marty} = 1)}_{\\substack{\\text{ Resultado observado} \\\\ \\text{dado que fue al hospital}}}\n",
        "- \\underbrace{Y_{Marty}(T_{Marty} = 0)}_{\\substack{\\text{ Resultado observado} \\\\ \\text{dado que NO fue al hospital}}} = Y(1) - Y(0)\n",
        "\\end{equation}\n"
      ]
    },
    {
      "cell_type": "markdown",
      "metadata": {
        "id": "tZqu-BBgHBlG"
      },
      "source": [
        "<center><img src=\"https://storage.googleapis.com/humai-datasets/imagenes/causalidad/1_IntroyResultadosPotenciales/Marty.jpg\" style=\"margin:auto\"/></center>"
      ]
    },
    {
      "cell_type": "markdown",
      "metadata": {
        "id": "Gm9ocnPzjnwc"
      },
      "source": [
        "Si otras personas tienen acceso al DeLorean, podemos observar realizaciones de las variables aleatorias $Y$, $T$ y el $ITE$ para ellas. Vemos qué pasa con su salud cuando van y cuando no val al hospital. \n",
        "\n",
        "Dado que hay aleatoriedad en el mundo, algunas heridas se salvan y otras no, seguramente nos interese algo así como la distribución del $ITE$, o algunos de sus momentos, como la media o la varianza. Si en promedio las heridas se salvan y no hay demasiada varianza, eso significa que es probable que me salve yo también (_¡esto es un test de diferencia de medias!_). En particular, a la media de los ITE la llamamos efecto medio de tratamiento (**ATE**, por _Average Treatment Effect_). \n",
        "$$\\DeclareMathOperator{\\E}{\\mathbb{E}}$$ \n",
        "\\begin{equation}\n",
        " ATE = \\E[ITE] \n",
        "\\end{equation}\n",
        "\n",
        "</br>\n",
        "\n",
        "------\n",
        "_RESUMIENDO._\n",
        "\n",
        "_Genéricamente, **pensamos la causalidad como una comparación de resultados potenciales**, contrafácticos, dimensiones paralelas. **En la práctica, necesitamos observar los resultados para compararlos.** Si pudiéramos acceder a una dimensión paralela, podríamos observar ambos resultados potenciales. Llamamos “tratamiento” a la causa cuyo efecto queremos evaluar. Implemento el tratamiento, observamos el resultado de implementar el tratamiento. Usamos el DeLorean para volver el tiempo atrás, a las exactas mismas circunstancias (¡ceteris paribus!) y no implementar el tratamiento. Observamos el resultado potencial de no haber implementado el tratamiento, con todo lo demás absolutamente igual. Y luego comparamos los resultados potenciales._\n",
        "\n",
        "------\n",
        "</br>\n",
        "\n",
        "**Pero se rompió el DeLorean :(**\n",
        "\n",
        "Se rompió el DeLorean $\\equiv$ **problema fundamental de la inferencia causal**. \n",
        "\n",
        "El contrafáctico es por definición inobservable. Sólo un resultado potencial se realiza. O vamos al hospital ($T_i = 1$), o no vamos ($T_i = 0$). Para una misma persona, bajo las exactas mismas circunstancias, sólo tendremos o bien el resultado observado de ir al hospital $Y_i (Tt_i =1)$, o el resultado observado de no haber ido $Y_i (T_i =0)$. ¡Y sólo podemos comparar observables! Será imposible comparar resultados potenciales para los mismos individuos bajo las mismas circunstancias. **Hay un resultado potencial que no observamos**. Y por lo tanto, **no podremos acceder al ITE**, pues no podremos calcular a la vez, para el mismo individuo $i$, $Y_i (T_i = 1)$ e $Y_i (T_i = 0)$ para restarlos. En consecuencia, **tampoco podemos calcular el ATE**. ¡Nos faltan datos!\n",
        "\n"
      ]
    },
    {
      "cell_type": "markdown",
      "source": [
        "**Ejercicio de lectura activa**: ¿Qué significa que nos falten datos? ¿Por qué decimos que no podemos calcular el ATE?"
      ],
      "metadata": {
        "id": "YroBES-cri1q"
      }
    },
    {
      "cell_type": "code",
      "execution_count": null,
      "metadata": {
        "id": "qKbBGXHh5F2S"
      },
      "outputs": [],
      "source": [
        "# Mi respuesta aquí.\n",
        "\n",
        "print(\"\")\n"
      ]
    },
    {
      "cell_type": "markdown",
      "metadata": {
        "id": "X6H1vO4f5EU2"
      },
      "source": [
        "\n",
        "\n",
        "Sin DeLorean, supongamos ambos fueron heridos pero que cada uno hace algo distinto. Marty va al hospital y el Doc no. Nuestros datos son algo así:\n",
        "\n",
        "| i| $T_i$| $Y_i$ | $Y_i$ $($ $T_i$ $=$ $1$ $)$ |$Y_i$ $($ $T_i$ $=$ $0$ $)$| $ITE_i$|\n",
        "| --- | --- | --- | --- | --- | --- |\n",
        "| Marty | 1 (fue al hospital) | $Y_{Marty}$ | $Y_{Marty}$ | ????? | ????? |\n",
        "| Doc| 0 (no fue al hospital) | $Y_{Doc}$ |  ????? | $Y_{Doc}$| ????? |\n",
        "\n",
        "\n",
        "Nos faltan datos para calcular los ITE, y entonces tampoco podemos calcular el ATE, que promedia los ITE.\n",
        "\n",
        "**¡¿Qué hacemos?!**\n",
        "\n",
        "**Nuestro objetivo a lo largo del curso será construir un \"buen\" contrafáctico**, para poder acercarnos lo más posible al ATE. Observamos uno de los resultados potenciales, queremos aproximar \"bien\" el resultado que no observamos. Imputar \"bien\" el dato faltante. Como nunca lo podremos observar, vamos a tener que hacer supuestos. Entonces, ¿qué significará un \"buen contrafáctico\" o \"aproximar bien\"? Que los supuestos que usamos para hacerlo sean creíbles. \n",
        "\n",
        "La idea a lo largo del curso es ir entrenándonos en entender cuando un contrafáctico es \"bueno o creíble\" o es \"malo\" y puede llevarnos a confusiones. Por ejemplo, ¿podríamos usar al Doc, que no va al hospital, como contrafáctico de Marty, que sí fue?"
      ]
    },
    {
      "cell_type": "markdown",
      "source": [
        "**Ejercicio de lectura activa**. Argumente por qué Doc sería o no un buen contrafáctico para Marty."
      ],
      "metadata": {
        "id": "2C9VYRt6sJBC"
      }
    },
    {
      "cell_type": "code",
      "execution_count": null,
      "metadata": {
        "id": "K1UjgbVa58W_"
      },
      "outputs": [],
      "source": [
        "# Mi respuesta aquí.\n",
        "\n",
        "print(\"\")"
      ]
    },
    {
      "cell_type": "markdown",
      "metadata": {
        "id": "29mBMeZ56I_8"
      },
      "source": [
        "**Respuesta**.\n",
        "\n",
        "El Doc tiene más años que Marty, y más viajes en el tiempo. Es posible que la salud previa del Doc no sea exactamente igual a lo de Marty, o que las heridas que recibieron no sean exactamente las mismas. Entonces, no vamos a poder saber si las diferencias en la salud entre Doc y Marty luego de que Marty vaya al hospital y el Doc no vaya son sólo consecuencias de ir al hospital, o si estamos _confundiendo_ los efectos de ir al hospital con las consecuencias de esas otras características que tienen de diferente entre ellos. ¡No hay _ceteris paribus_!"
      ]
    },
    {
      "cell_type": "markdown",
      "metadata": {
        "id": "rBuQ-2I0UYtR"
      },
      "source": [
        "### Vamos a los datos\n",
        "\n",
        "\"Vamos a los datos\"  $\\equiv$ vamos a los que sí podamos observar. La única alternativa sin Delorean.\n",
        "\n",
        "Tenemos una muestra de N individuos. Para cada individuo en una circunstancia dada, observamos una realización de la variable aleatoria $Y_i$ (el estado de salud) y una realización de la variable $T_i$ (si fue o no fue al hospital). \n",
        "\n",
        "* Idealmente, querríamos ver el ATE. El ATE promediar para todos los individuos, las diferencias en los resultados cuando van y cuando no van al hospital. Pero como se rompió el DeLorean, jamás podremos observar al mismo individuo en las exactas mismas circunstancias.\n",
        "* Debemos cambiar un poco nuestra pregunta, tratar de aproximarnos al ATE de otra manera. Si tenemos N individuos donde algunos fueron al hospital y otros no, **¿por qué no comparamos la salud promedio entre quienes fueron y quienes no fueron al hospital?** \n",
        "\n",
        "\n",
        "\n"
      ]
    },
    {
      "cell_type": "markdown",
      "metadata": {
        "id": "cIIYrixUkk_N"
      },
      "source": [
        "\n",
        "> _Los siguientes datos están tomados de Angrist y Pischke (2008)_ \n",
        "\n",
        "Los datos de la National Health Interview Survey (NHIS) de Estados Unidos tienen dos preguntas que podemos usar como muestras de nuestras variables de interés:\n",
        "1. Durante los últimos 12 meses, ¿el encuestado pasó una noche en el hospital? $\\rightarrow T_i$\n",
        "2. ¿Diría que su salud es excelente, muy buena, buena, regular o mala? $\\rightarrow Y_i$ (asignando 1 a \"excelente\" y 5 a \"mala\")\n",
        "\n",
        "Comparemos los dos resultados **observados** con los que contamos. Calculemos la salud promedio para los que fueron al hospital, y para quienes no fueron, y calculemos la diferencia.\n",
        "\n",
        "| $T_i$ (grupo) | $N$ (tamaño de muestra)|  $\\widehat{E[Y_i |T=t]}$ (salud promedio del grupo) | Desvío est. |\n",
        "| --- | --- | --- | --- |\n",
        "| 1 (fue al hospital) | 7774 | 2.79 | 0.014 |\n",
        "| 0 (no fue al hospital)| 90049 | 2.07|  0.003 |\n",
        "\n",
        "\n",
        "\n",
        "$$\\DeclareMathOperator{\\E}{\\mathbb{E}}$$ \n",
        "\\begin{equation}\n",
        "  \\underbrace{\\widehat\\E[Y_i | T_i=1]}_{\\substack{\\text{ Salud (resultado observado) promedio} \\\\ \\text{en los que fueron al hospital}}}  - \\underbrace{\\widehat\\E[Y_i | T = 0]}_{\\substack{\\text{Salud (resultado observado) promedio} \\\\ \\text{en los que  NO fueron al hospital}}}  = \\quad 2.79 - 2.07 \\quad = \\quad \\underbrace{0.72}_{\\substack{\\text{Diferencia promedio} \\\\ \\text{en el indicador de mala salud}}}\n",
        "\\end{equation}\n",
        "\n",
        "\n",
        "En promedio, la salud de los que fueron al hospital es ¡peor! (recordemos que es un indicador de *mala* salud) que la salud de los que no fueron al hospital... **Ejercicio de lectura activa**: ¿qué es lo que puede estar pasando? \n"
      ]
    },
    {
      "cell_type": "code",
      "execution_count": null,
      "metadata": {
        "colab": {
          "base_uri": "https://localhost:8080/"
        },
        "id": "2RXA63KIw145",
        "outputId": "18bfe1bb-71a0-48f5-c30e-b39023ad6158"
      },
      "outputs": [
        {
          "name": "stdout",
          "output_type": "stream",
          "text": [
            "Lo que puede estar pasando es...\n"
          ]
        }
      ],
      "source": [
        "# Mi respuesta aquí:\n",
        "\n",
        "print('Lo que puede estar pasando es...')"
      ]
    },
    {
      "cell_type": "markdown",
      "metadata": {
        "id": "9X-eh820w8Yp"
      },
      "source": [
        "**Respuesta.**\n",
        "\n",
        "Probablemente, lo que sucede es que la condición de salud previa de las personas que pasan una noche en el hospital es peor que la de aquellos que no fueron. Es posible que haber ido al hospital haya mejorado el estado de salud de la persona, pero no lo suficiente como para que su estado de salud sea igual o mejor a aquellos que no tuvieron que ir al hospital porque estaban sanos.\n",
        "\n",
        "Entonces, \"ir al hospital\" está reflejando no solamente la atención médica recibida en el hospital, sino también la condición de salud previa que hizo que esas personas fueran al hospital.\n",
        "\n",
        "Gráficamente, sería algo así:"
      ]
    },
    {
      "cell_type": "code",
      "execution_count": null,
      "metadata": {
        "colab": {
          "base_uri": "https://localhost:8080/",
          "height": 175
        },
        "id": "TxNJDg5kw9Vx",
        "outputId": "a3c8eaff-611c-4493-c7f7-644c57233702"
      },
      "outputs": [
        {
          "data": {
            "image/svg+xml": "<?xml version=\"1.0\" encoding=\"UTF-8\" standalone=\"no\"?>\n<!DOCTYPE svg PUBLIC \"-//W3C//DTD SVG 1.1//EN\"\n \"http://www.w3.org/Graphics/SVG/1.1/DTD/svg11.dtd\">\n<!-- Generated by graphviz version 2.40.1 (20161225.0304)\n -->\n<!-- Title: %3 Pages: 1 -->\n<svg width=\"264pt\" height=\"116pt\"\n viewBox=\"0.00 0.00 263.79 116.00\" xmlns=\"http://www.w3.org/2000/svg\" xmlns:xlink=\"http://www.w3.org/1999/xlink\">\n<g id=\"graph0\" class=\"graph\" transform=\"scale(1 1) rotate(0) translate(4 112)\">\n<title>%3</title>\n<polygon fill=\"#ffffff\" stroke=\"transparent\" points=\"-4,4 -4,-112 259.7901,-112 259.7901,4 -4,4\"/>\n<!-- T -->\n<g id=\"node1\" class=\"node\">\n<title>T</title>\n<ellipse fill=\"none\" stroke=\"#000000\" cx=\"42.2463\" cy=\"-18\" rx=\"42.4939\" ry=\"18\"/>\n<text text-anchor=\"middle\" x=\"42.2463\" y=\"-14.3\" font-family=\"Times,serif\" font-size=\"14.00\" fill=\"#000000\">Hospital</text>\n</g>\n<!-- Y -->\n<g id=\"node2\" class=\"node\">\n<title>Y</title>\n<ellipse fill=\"none\" stroke=\"#000000\" cx=\"186.2463\" cy=\"-18\" rx=\"69.5877\" ry=\"18\"/>\n<text text-anchor=\"middle\" x=\"186.2463\" y=\"-14.3\" font-family=\"Times,serif\" font-size=\"14.00\" fill=\"#000000\">Estado de salud</text>\n</g>\n<!-- T&#45;&gt;Y -->\n<g id=\"edge1\" class=\"edge\">\n<title>T&#45;&gt;Y</title>\n<path fill=\"none\" stroke=\"#000000\" d=\"M84.6722,-18C91.5735,-18 98.9137,-18 106.3679,-18\"/>\n<polygon fill=\"#000000\" stroke=\"#000000\" points=\"106.5728,-21.5001 116.5728,-18 106.5728,-14.5001 106.5728,-21.5001\"/>\n</g>\n<!-- X -->\n<g id=\"node3\" class=\"node\">\n<title>X</title>\n<ellipse fill=\"none\" stroke=\"#000000\" cx=\"114.2463\" cy=\"-90\" rx=\"108.5808\" ry=\"18\"/>\n<text text-anchor=\"middle\" x=\"114.2463\" y=\"-86.3\" font-family=\"Times,serif\" font-size=\"14.00\" fill=\"#000000\">Condición de salud previa</text>\n</g>\n<!-- X&#45;&gt;T -->\n<g id=\"edge3\" class=\"edge\">\n<title>X&#45;&gt;T</title>\n<path fill=\"none\" stroke=\"#000000\" d=\"M96.4485,-72.2022C87.2896,-63.0434 75.9977,-51.7514 66.0953,-41.849\"/>\n<polygon fill=\"#000000\" stroke=\"#000000\" points=\"68.3981,-39.202 58.8521,-34.6058 63.4483,-44.1518 68.3981,-39.202\"/>\n</g>\n<!-- X&#45;&gt;Y -->\n<g id=\"edge2\" class=\"edge\">\n<title>X&#45;&gt;Y</title>\n<path fill=\"none\" stroke=\"#000000\" d=\"M132.044,-72.2022C140.9374,-63.3088 151.842,-52.4042 161.5327,-42.7135\"/>\n<polygon fill=\"#000000\" stroke=\"#000000\" points=\"164.057,-45.139 168.6532,-35.593 159.1072,-40.1892 164.057,-45.139\"/>\n</g>\n</g>\n</svg>\n",
            "text/plain": [
              "<graphviz.dot.Digraph at 0x7f297546dc90>"
            ]
          },
          "execution_count": 5,
          "metadata": {},
          "output_type": "execute_result"
        }
      ],
      "source": [
        "#@title {display-mode: \"form\"} \n",
        "from graphviz import Digraph\n",
        "from IPython.display import display\n",
        "\n",
        "#Especificamos engine='neato' para poder usar argumento `pos` en nodos\n",
        "dot = Digraph(engine='neato')\n",
        "dot.node('T', 'Hospital', pos='1,1!')\n",
        "dot.node('Y', 'Estado de salud', pos='3,1!')\n",
        "dot.node('X', 'Condición de salud previa', pos='2,2!')\n",
        "dot.edges(['TY', 'XY', 'XT'])\n",
        "dot\n"
      ]
    },
    {
      "cell_type": "markdown",
      "metadata": {
        "id": "HyVm11xjOTOV"
      },
      "source": [
        "Si se acuerdan, este es el mismo diagrama (grafo) que vimos antes en la Paradoja de Simpson... PARA PENSAR"
      ]
    },
    {
      "cell_type": "markdown",
      "metadata": {
        "id": "Hnj61uDSywE0"
      },
      "source": [
        "### Confusores y sesgos \n",
        "\n",
        "* Decimos que la \"condición de salud\" previa es un **confusor**. \n",
        "  * Una variable que está correlacionada tanto con el tratamiento $T_i$ (ir al hospital) como con el resultado $Y_i$ (el estado de salud posterior)\n",
        "  * Si no la tomamos en cuenta, confundimos el efecto que queremos medir, la visita al hospital (la atención médica y otros servicios recibidos allí) con el confusor\n",
        "* Decimos que cuando comparamos la salud promedio observada entre quienes fueron al hospital y quienes no, además del **efecto causal** de la visita al hospital, tenemos un **sesgo de selección**: las personas que \"se autoseleccionan\" para ir a hospital son distintas de las que no van. \n",
        "* **No** estamos cumpliendo con la comparación **_ceteris paribus_**: las circunstancias de un grupo (condición mala de salud previa), no son iguales a las del otro (condiciones buenas de salud previa)\n",
        "\n",
        "* Comparar al grupo de personas que va al hospital con el grupo de personas que no va no sirve para responder nuestra pregunta causal, contrafáctica: ¿una persona que sí fue, está mejor que si no hubiera ido? (es decir, nuestra pregunta por el ITE, o por el ATE)\n",
        "\n",
        "* Entonces, el grupo de personas que no va al hospital **no es un buen contrafáctico** de las personas que sí van al hospital\n",
        "\n"
      ]
    },
    {
      "cell_type": "markdown",
      "metadata": {
        "id": "UJULSFMGpBbc"
      },
      "source": [
        "_La diferencia de medias entre los resultados observados de grupos tratados y no tratados a veces se la llama \"diferencia asociacional\"_\n",
        "\n",
        "* ATE: $\\E[Y(1) - Y(0)] = \\E[Y(1)] - \\E[Y(0)]$ \n",
        "* Diferencia asociacional: $\\E[(Y|T=1)] - \\E[(Y|T=0)]$\n",
        "\n",
        "**Ejercicio de lectura activa**. ¿En qué se diferencian el ATE y la diferencia asociacional?"
      ]
    },
    {
      "cell_type": "code",
      "execution_count": null,
      "metadata": {
        "colab": {
          "base_uri": "https://localhost:8080/"
        },
        "id": "6PBUp4yxm95E",
        "outputId": "a447c869-79e2-4c67-8225-e696b9be6f63"
      },
      "outputs": [
        {
          "name": "stdout",
          "output_type": "stream",
          "text": [
            "No son lo mismo porque .......\n"
          ]
        }
      ],
      "source": [
        "# Mi respuesta aquí\n",
        "\n",
        "print('')"
      ]
    },
    {
      "cell_type": "markdown",
      "metadata": {
        "id": "zf1z7YMYnADe"
      },
      "source": [
        "**Respuesta**.\n",
        "\n",
        "En la diferencia asociacional \"faltan observaciones\": a diferencia del ATE, no promedia el resultado potencial Y(1) para todos los individuos -incluso los no tratados-, sino sólo para aquellos que efectivamente fueron al hospital, los tratados. Compara los resultados observados, no los resultados potenciales.\n",
        "\n",
        "**Veamos formalmente cuál la relación entre la diferencia asociacional y el ATE:**\n",
        "\n",
        "Podemos escribir el resultado observado en términos de resultados potenciales:\n",
        "<center>\n",
        "$Y_i = Y_i(0) + [Y_i(1) -Y_i(0)] T_i  \\tag{1} $\n",
        "</center>\n",
        "\n",
        "El resultado observado es uno de los resultados potenciales, el que \"se realiza\" según el tratamiento $T_i$ que nos toque. Reemplazando por el tratamiento $T_i$ que nos toque en la ecuación de arriba:\n",
        "<center>\n",
        "\\begin{equation}\n",
        "    T_i \n",
        "    \\begin{cases}\n",
        "      T_i = 1 \\rightarrow Y_i = Y_i(1) & \\text{si voy al hospital, observo el resultado potencial de ir al hospital} \\\\\n",
        "      T_i = 0 \\rightarrow Y_i = Y_i(0) & \\text{si no voy al hospital, observo el resultado potencial de no ir al hospital}\n",
        "    \\end{cases}\n",
        "  \\end{equation}\n",
        "</center>\n",
        "\n",
        "Reemplazando $Y_i$  por $(1)$ en la diferencia asociacional:\n",
        "<center>\n",
        "$$\\DeclareMathOperator{\\E}{\\mathbb{E}}$$ \n",
        "\\begin{equation}\n",
        "  \\underbrace{\\E[Y_i | T_i=1] - \\E[Y_i | T_i = 0]}_{\\substack{\\text{ Diferencia asociacional} }}  = \\underbrace{\\E[Y_i(1) | T_i=1] - \\E[Y_i(0) | T_i = 1]}_{\\substack{\\text{TOT (diferencia resultados potenciales o ATE} \\\\ \\text{ en los tratados)} }}  + \\underbrace{\\E[Y_i(0) | T_i=1] - \\E[Y_i(0) | T_i = 0]}_{\\substack{\\text{SESGO DE SELECCION}}}\n",
        "\\end{equation}\n",
        "</center>\n",
        "\n",
        "Podemos descomponer la diferencia asociacional (observada) en dos componentes no observables:\n",
        "\n",
        "* El **TOT**, por \"Treatment on the Treated\", que es el ATE (compara los resultados potenciales $Y_i(0)$ e $Y_i(1)$) pero solamente para el grupo de tratados (condiciona en $T_i=1$), en este caso para los que van al hospital. Son las diferencias en el resultado **atribuibles al tratamiento**. \n",
        "_Notas sobre el TOT: (a) definiendo el tratamiento inverso ($T_i=1$ como no ir al hospital) podríamos encontrar el ATE para el grupo quienes no van al hospital. Pero en general nos interesa el efecto del tratamiento para el grupo de que sean tratados. (b) Muchas veces se lo llama directamente ATE, pero debemos recordar que es el ATE para solamente los tratados_\n",
        "\n",
        "* El **sesgo de selección** es la diferencia de los resultados potenciales de NO recibir tratamiento entre el grupo de tratados y el grupo de no tratados. Es decir, las diferencias que de todos modos existirían en el resultado de tratados y no tratados aún si no hubieran recibido el tratamiento. Por lo tanto, son las diferencias en el resultado que **no son atribuibles al tratamiento**. En nuestro ejemplo, son las diferencias que seguirían existiendo entre quienes fueron y quienes no fueron al hospital si ninguno hubiera ido al hospital.\n",
        "\n",
        "Por lo tanto, al comparar las medias de quienes van al hospital y quienes no van, estamos confundiendo el efecto de ir al hospital con otras diferencias que hay entre quienes van y quienes no van. El objetivo, entonces, será eliminar el sesgo de selección para poder aproximar el efecto de tratamiento.\n",
        "\n",
        "\n",
        "\n",
        "\n",
        "**Ejercicio de lectura activa**. ¿Cuál imaginan que es el sentido del sesgo de selección en nuestro ejemplo?"
      ]
    },
    {
      "cell_type": "code",
      "execution_count": null,
      "metadata": {
        "colab": {
          "base_uri": "https://localhost:8080/"
        },
        "id": "PFtVuItRK2fs",
        "outputId": "0a8fcc8b-750d-493d-e5b3-8766e6ffdb19"
      },
      "outputs": [
        {
          "name": "stdout",
          "output_type": "stream",
          "text": [
            "Probablemente, el sesgo de selección sea...\n"
          ]
        }
      ],
      "source": [
        "# Mi respuesta aquí\n",
        "\n",
        "print('Probablemente, el sesgo de selección sea...')"
      ]
    },
    {
      "cell_type": "markdown",
      "metadata": {
        "id": "GRFIQhb-LDxa"
      },
      "source": [
        "**Respuesta**.\n",
        "\n",
        "Si la condición previa de salud de quienes fueron al hospital es mucho peor que la de quienes no fueron, ¡el índice de mala salud sin haber ido al hospital será mucho más alto para los que van! Hay un sesgo de selección positivo: los tratados tendrían un resultado $Y_i$ mas alto que los no tratados incluso si no hubieran ido al hospital.\n",
        "\n",
        "Es posible que el efecto de tratamiento sea negativo, es decir, que ir al hospital mejore la salud de quienes van, pero que el sesgo de selección sea tan grande y positivo que la diferencia de medias resulta positiva. Es decir, ir al hospital mejora pero no compensa las diferencias de salud previas. Por ejemplo, la situación podría ser algo así:\n",
        "\n",
        "<center>\n",
        "$$\\DeclareMathOperator{\\E}{\\mathbb{E}}$$ \n",
        "\\begin{equation}\n",
        "  \\underbrace{0.72}_{\\substack{\\text{ Diferencia asociacional}\\\\ \\text{ que observamos } }}  = \\underbrace{-0.28}_{\\substack{\\text{TOT (diferencia resultados potenciales} \\\\ \\text{ en los tratados)} }}  + \\underbrace{1}_{\\substack{\\text{SESGO DE SELECCION}}}\n",
        "\\end{equation}\n",
        "</center>\n",
        "\n",
        "Esta es la hipótesis que suena más razonable... Pero tranquilamente alguien podría argumentar que no, que aún con diferencias previas entre los que van y los que no, ir al hospital empeora la salud de quienes van, y que hubieran estado mejor sin ir. Algo así como:\n",
        "\n",
        "<center>\n",
        "$$\\DeclareMathOperator{\\E}{\\mathbb{E}}$$ \n",
        "\\begin{equation}\n",
        "  \\underbrace{0.72}_{\\substack{\\text{ Diferencia asociacional}\\\\ \\text{ que observamos } }}  = \\underbrace{0.28}_{\\substack{\\text{TOT (diferencia resultados potenciales} \\\\ \\text{ en los tratados)} }}  + \\underbrace{0.5}_{\\substack{\\text{SESGO DE SELECCION}}}\n",
        "\\end{equation}\n",
        "</center>\n",
        "\n",
        "Entonces, queremos recuperar bien el ATE en los tratados, o lo que es lo mismo, eliminar el sesgo de selección, para saber si efectivamente ir al hospital mejora la salud de quienes lo hacen.\n",
        "\n",
        "Eliminar el sesgo de selección implica hacer una comparación _ceteris paribus_, como si no hubiera diferencias entre los que van y no van al hospital, como si estuviéramos comparando a la misma persona que viajó al pasado y volvió al futuro. Y **las comparaciones que se establecen en condiciones *ceteris paribus* admiten una interpretación causal**, no tienen sesgo de selección."
      ]
    },
    {
      "cell_type": "markdown",
      "metadata": {
        "id": "rXviSgx3hCeo"
      },
      "source": [
        "\n",
        "## Alcance de la pregunta causal\n",
        "\n",
        "Antes de seguir, notemos algunas cosas sobre el alcance de nuestra pregunta causal cuando usamos el marco de resultados potenciales. Nos preguntamos si determinado tratamiento genera determinado resultado. Esto es:\n",
        "1. Queremos encontrar los efectos de ir al hospital sobre la mala salud, pero no todas las causas de la mala salud.\n",
        "2. Vamos a comparar los efectos de ser tratado relativos a los de no ser tratado.\n",
        "3. Para que tenga sentido la pregunta y podamos identificar un efecto causal, debe haber **exposición potencial**: todos los individuos deben poder estar potencialmente expuestos a todos los tratamientos, dejando el resto de las circunstancias constantes (sin perder la noción de _ceteris paribus_). Sólo así hay **resultados potenciales** para comparar. $→$  Para saber si es posible identificar un efecto causal, podemos preguntarnos si **existe un \"experimento ideal\"** que nos permita comparar esos efectos potenciales (como lo es usar el DeLorean). Las estrategias de identificación causal a lo largo del curso tratan de emular ese experimento ideal, de construir un buen contrafáctico. \n",
        "\n"
      ]
    },
    {
      "cell_type": "markdown",
      "metadata": {
        "id": "2vopPvpSGRh0"
      },
      "source": [
        "## Supuestos para aproximar bien el efecto de tratamiento\n",
        "\n",
        "Vimos que APROXIMAR BIEN EL TOT == eliminar el sesgo de selección o los confusores == conseguir un **buen contrafáctico** del hecho de ir al hospital. Conseguir un **buen contrafáctico** es aproximar el resultado potencial si los que fueron al hospital no hubieran ido.\n",
        "\n",
        "Como no podemos comparar al mismo individuo en dos mundos paralelos, la solución estadística es estimar el efecto causal observando a individuos distintos y comparando los promedios de esos grupos. Para que la comparación entre grupos identifique el efecto causal, deben cumplirse los siguientes supuestos:\n",
        "\n",
        "\n",
        "El supuesto estrella es el **supuesto de independencia:**  Y(0), el resultado potencial de no haber recibido tratamiento, es independiente de ser o no tratado. Formalmente, esto significa que\n",
        "$\\E [Y_i(0) | T_i = 1] = [Y_i(0) | T_i = 0] = \\E[Y_i(0)]  \\rightarrow \\text{Sesgo de seleccion} = 0$ .\n",
        "\n",
        "Además, los siguientes supuestos:\n",
        "* Exchangeability: el efecto estimado no depende de quiénes reciban el tratamiento (de sus otras características), podríamos intercambiar las personas tratadas con las no tratadas y el resultado no se ve afectado. \n",
        "* SUTVA (Stable Unit Treatment Value Assumption), que agrupa dos supuestos:\n",
        "  * No interferencia: el outcome potencial de un individuo no puede verse afectado por el hecho de que otro individuo sea tratado, por ejemplo, no puede haber \"efectos derrame\" o \"spillovers\", como sucede con las vacunas. \n",
        "  * Homogeneidad en el tratamiento: todos los tratados reciben lo mismo, hay una sola versión de cada tratamiento, no hay variaciones ocultas en el tratamiento y está bien claro y definido qué significa ser tratado. \n",
        "\n",
        "\n",
        "Estamos comparando en condiciones _ceteris paribus_, lo único que distingue a los grupos es el hecho de haber recibido tratamiento, y tenemos un grupo de control es un _buen contrafáctico_ del grupo de tratamiento. Las estrategias que veremos a lo largo del curso se esfuerzan por construir ese contrafáctico creíble. También, la idea es entrenarnos en darnos cuenta cuándo es probable que alguno de estos supuestos no se esté cumpliendo y estemos identificando mal el efecto causal. \n"
      ]
    },
    {
      "cell_type": "markdown",
      "metadata": {
        "id": "WChcbOahCPW2"
      },
      "source": [
        "**Ejercicio de lectura activa.** ¿Cómo podemos verificar que se cumple el supuesto de independencia?"
      ]
    },
    {
      "cell_type": "code",
      "execution_count": null,
      "metadata": {
        "id": "-mqZsaD4TMds"
      },
      "outputs": [],
      "source": [
        "print(\"\")"
      ]
    },
    {
      "cell_type": "markdown",
      "metadata": {
        "id": "eHV2QKB_CJPy"
      },
      "source": [
        "**Respuesta**. Nunca podremos _verificar_ que se cumple el supuesto de independencia (¡por eso es un supuesto!) porque para el grupo de tratados jamás podremos observar el efecto potencial de no haber sido tratado. Los argumentos respecto de si se cumple o no siempre serán teóricos, no empíricos. A grandes rasgos hay dos formas de tratar de que el supuesto de independencia se cumpla y creíblemente lograr comparar entre \"grupos que hubieran sido idénticos\" de no haber existido tratamiento. Esas dos grandes formas son: (1) asignación aleatoria del tratamiento, (2) controlar por los posibles confusores, es decir, las variables que son diferentes entre los grupos y pueden afectar el resultado.\n",
        "\n",
        "\n",
        "#### (1) Experimentos\n",
        "**Alto ahí.** ¿Por qué pensás que los experimentos son útiles para identificar relaciones causales?"
      ]
    },
    {
      "cell_type": "code",
      "execution_count": null,
      "metadata": {
        "id": "EaVMfsl0CgJf"
      },
      "outputs": [],
      "source": [
        "print(\"\")"
      ]
    },
    {
      "cell_type": "markdown",
      "metadata": {
        "id": "kf0WH046YVsM"
      },
      "source": [
        "\n",
        "Una forma de conseguir que se cumpla el supuesto de independencia es **asignar aleatoriamente el tratamiento**. De esa manera, estar expuesto a tratamiento o control, es independiente de cualquier otra variable. En particular, el tratamiento no estará correlacionado con el resultado potencial de no haber sido tratado. O lo que es lo mismo, los tratados y los no tratados hubieran sido idénticos de no haber sido por el tratamiento.\n",
        "\n",
        "Lo que podemos verificar al hacer un experimento es que el tratamiento no esté correlacionado con de las características pre-tratamiento. Por lo tanto, lo único que diferenciará a los tratados de los no tratados será el hecho de recibir el tratamiento. No habrá sesgo de selección. \n",
        "\n",
        "Si la población es lo suficientemente grande, en promedio las características del grupo de control y las características del grupo de tratamiento serán las mismas (hay \"balanceo de características\").\n",
        "\n",
        "#### (2) Controlar por confusores\n",
        "\n",
        "Otra opción es controlar por todas aquellas características que diferencian al grupo de tratados y no tratados, y que podrían estar correlacionadas con el resultado. Condicional en dichas características, el resultado potencial de no recibir tratamiento debería ser el mismo para ambos grupos. \n",
        "\n",
        "\n",
        "_Vamos con un ejemplo práctico para entender esto un poco mejor_\n"
      ]
    },
    {
      "cell_type": "markdown",
      "metadata": {
        "id": "yQbXMO1SMX7w"
      },
      "source": [
        "## Simulación\n",
        "\n",
        "A continuación simularemos unos datos y estimaremos las relaciones entre ellos con el objetivo de identificar el efecto causal.\n",
        "\n",
        "\n",
        "La siguiente simulación nos permitirá:\n",
        "\n",
        "\n",
        "*   Ver el sesgo que se produce al omitir confusores o variables relevantes\n",
        "*   Ver posibles caminos para identificar correctamente el efecto causal: experimentar o controlar por dichos confusores\n",
        "\n",
        "\n"
      ]
    },
    {
      "cell_type": "markdown",
      "metadata": {
        "id": "vadm_JNI_Lp1"
      },
      "source": [
        "### Ejemplo: _¿es fumar perjudicial para la salud?_\n",
        "\n",
        "Supongamos que queremos ver el efecto del cigarrillo en la salud. \n",
        "\n",
        "Lo que nos permite la simulación es jugar a que conocemos el _verdadero_ proceso generador de datos, que se compone de las siguientes variables:\n",
        "\n",
        "\n",
        "\n",
        "*   Variable dependiente (resultado): \n",
        "  * $salud_i$: indicador de salud entre 0 y 100, donde 100 es mejor salud\n",
        "*   Covariables:\n",
        "  * $edad_i$: se relaciona negativamente con la salud (empeora la salud al envejecer).\n",
        "  * $cigarrillos_i$: cantidad de cigarrillos fumados por semana. Se relaciona negativamente con la salud (empeora la salud al fumar), pero en esta población los jóvenes fuman más.  \n",
        "  * $fumar_i$: para mantenernos en el marco del tratamiento binario del que venimos hablando (tratados versus no tratados) usaremos esta variable en vez de usar $cigarrillos$. Pero tranquilamente podríamos usar la variable continua (¡pueden probarlo!). Vamos a decir que la persona es \"tratada\" (fuma mucho) si fuma más que la media.  Será la variable de interés, cuyo efecto causal sobre la salud queremos estimar.\n",
        "\n",
        "Proceso generador de datos (\"modelo verdadero\"):\n",
        "$$\n",
        "salud_i = 100  - 10  \\; fumar_i - edad_i +  u_i\n",
        "$$\n",
        "\n",
        "\n",
        "$$\n",
        "cigarrillos_i = -  0.5  \\; edad_i + \\alpha_i\n",
        "$$\n",
        "\n",
        "$$\n",
        "fumar_i = 1 ⇔ cigarrillos_i > E(cigarrillos_i)\n",
        "$$\n",
        "\n",
        "\n",
        "Con las siguientes distribuciones:\n",
        "\n",
        "$$ u_i \\sim \\mathcal{N}(0,\\,1)\\ $$ \n",
        "$$ \\alpha_i \\sim exp(1) $$ \n",
        "$$ edad_i \\sim \\mathcal{N}(40,\\,10)\\  $$ \n",
        "\n",
        "\n",
        "\n",
        "En este ejemplo de juguete conocemos la verdad respecto del efecto de fumar en la salud. Vemos que la salud depende de los cigarrillos y de la edad, que para aquellos que fuman mucho cae un punto el índice de salud en promedio y que el índice de salud se reduce en 1 punto con cada año que pasa (para la próxima pensamos un ejemplo más feliz). Notar que $u_i$ es un error aleatorio. La relación entre las covariables y el resultado no es determinística, hay algo de aleatoriedad de persona a persona.\n",
        "\n",
        "En esta simulación vamos a generar algunos datos, que es con lo que nos enfrentaremos en la realidad: tendremos unas cuantas mediciones del índice de salud, de la edad y de los cigarrillos consumidos para cada persona. Veremos si a partir de esos datos podemos recuperar el efecto causal de los cigarrillos sobre el índice de salud, que sabemos que es **-10**.\n"
      ]
    },
    {
      "cell_type": "markdown",
      "metadata": {
        "id": "UzXZLsQJYSH5"
      },
      "source": [
        "\n",
        "**Ejercicios**"
      ]
    },
    {
      "cell_type": "markdown",
      "metadata": {
        "id": "TnQ8GMpuy_7L"
      },
      "source": [
        "\n",
        "\n",
        "\n",
        "**1. Supongamos que tenemos una población de 10000 individuos. Generar 10000 observaciones de las variables aleatorias edad, cigarrillos, fumar y salud.**"
      ]
    },
    {
      "cell_type": "code",
      "execution_count": null,
      "metadata": {
        "colab": {
          "base_uri": "https://localhost:8080/",
          "height": 206
        },
        "id": "B_A46w_5YVHA",
        "outputId": "ea11b814-2dd3-464f-bd27-69d3ca3390f6"
      },
      "outputs": [
        {
          "data": {
            "text/html": [
              "\n",
              "  <div id=\"df-b2b85904-6fa5-490d-9ccd-350181cd1b4d\">\n",
              "    <div class=\"colab-df-container\">\n",
              "      <div>\n",
              "<style scoped>\n",
              "    .dataframe tbody tr th:only-of-type {\n",
              "        vertical-align: middle;\n",
              "    }\n",
              "\n",
              "    .dataframe tbody tr th {\n",
              "        vertical-align: top;\n",
              "    }\n",
              "\n",
              "    .dataframe thead th {\n",
              "        text-align: right;\n",
              "    }\n",
              "</style>\n",
              "<table border=\"1\" class=\"dataframe\">\n",
              "  <thead>\n",
              "    <tr style=\"text-align: right;\">\n",
              "      <th></th>\n",
              "      <th>salud</th>\n",
              "      <th>edad</th>\n",
              "      <th>cigarrillos</th>\n",
              "      <th>fumar</th>\n",
              "    </tr>\n",
              "  </thead>\n",
              "  <tbody>\n",
              "    <tr>\n",
              "      <th>0</th>\n",
              "      <td>50.288490</td>\n",
              "      <td>40.011086</td>\n",
              "      <td>32.240430</td>\n",
              "      <td>1.0</td>\n",
              "    </tr>\n",
              "    <tr>\n",
              "      <th>1</th>\n",
              "      <td>52.599040</td>\n",
              "      <td>37.104559</td>\n",
              "      <td>31.638577</td>\n",
              "      <td>1.0</td>\n",
              "    </tr>\n",
              "    <tr>\n",
              "      <th>2</th>\n",
              "      <td>62.490131</td>\n",
              "      <td>28.839337</td>\n",
              "      <td>38.861040</td>\n",
              "      <td>1.0</td>\n",
              "    </tr>\n",
              "    <tr>\n",
              "      <th>3</th>\n",
              "      <td>59.400392</td>\n",
              "      <td>39.871172</td>\n",
              "      <td>30.154300</td>\n",
              "      <td>0.0</td>\n",
              "    </tr>\n",
              "    <tr>\n",
              "      <th>4</th>\n",
              "      <td>53.769606</td>\n",
              "      <td>36.216385</td>\n",
              "      <td>32.780151</td>\n",
              "      <td>1.0</td>\n",
              "    </tr>\n",
              "  </tbody>\n",
              "</table>\n",
              "</div>\n",
              "      <button class=\"colab-df-convert\" onclick=\"convertToInteractive('df-b2b85904-6fa5-490d-9ccd-350181cd1b4d')\"\n",
              "              title=\"Convert this dataframe to an interactive table.\"\n",
              "              style=\"display:none;\">\n",
              "        \n",
              "  <svg xmlns=\"http://www.w3.org/2000/svg\" height=\"24px\"viewBox=\"0 0 24 24\"\n",
              "       width=\"24px\">\n",
              "    <path d=\"M0 0h24v24H0V0z\" fill=\"none\"/>\n",
              "    <path d=\"M18.56 5.44l.94 2.06.94-2.06 2.06-.94-2.06-.94-.94-2.06-.94 2.06-2.06.94zm-11 1L8.5 8.5l.94-2.06 2.06-.94-2.06-.94L8.5 2.5l-.94 2.06-2.06.94zm10 10l.94 2.06.94-2.06 2.06-.94-2.06-.94-.94-2.06-.94 2.06-2.06.94z\"/><path d=\"M17.41 7.96l-1.37-1.37c-.4-.4-.92-.59-1.43-.59-.52 0-1.04.2-1.43.59L10.3 9.45l-7.72 7.72c-.78.78-.78 2.05 0 2.83L4 21.41c.39.39.9.59 1.41.59.51 0 1.02-.2 1.41-.59l7.78-7.78 2.81-2.81c.8-.78.8-2.07 0-2.86zM5.41 20L4 18.59l7.72-7.72 1.47 1.35L5.41 20z\"/>\n",
              "  </svg>\n",
              "      </button>\n",
              "      \n",
              "  <style>\n",
              "    .colab-df-container {\n",
              "      display:flex;\n",
              "      flex-wrap:wrap;\n",
              "      gap: 12px;\n",
              "    }\n",
              "\n",
              "    .colab-df-convert {\n",
              "      background-color: #E8F0FE;\n",
              "      border: none;\n",
              "      border-radius: 50%;\n",
              "      cursor: pointer;\n",
              "      display: none;\n",
              "      fill: #1967D2;\n",
              "      height: 32px;\n",
              "      padding: 0 0 0 0;\n",
              "      width: 32px;\n",
              "    }\n",
              "\n",
              "    .colab-df-convert:hover {\n",
              "      background-color: #E2EBFA;\n",
              "      box-shadow: 0px 1px 2px rgba(60, 64, 67, 0.3), 0px 1px 3px 1px rgba(60, 64, 67, 0.15);\n",
              "      fill: #174EA6;\n",
              "    }\n",
              "\n",
              "    [theme=dark] .colab-df-convert {\n",
              "      background-color: #3B4455;\n",
              "      fill: #D2E3FC;\n",
              "    }\n",
              "\n",
              "    [theme=dark] .colab-df-convert:hover {\n",
              "      background-color: #434B5C;\n",
              "      box-shadow: 0px 1px 3px 1px rgba(0, 0, 0, 0.15);\n",
              "      filter: drop-shadow(0px 1px 2px rgba(0, 0, 0, 0.3));\n",
              "      fill: #FFFFFF;\n",
              "    }\n",
              "  </style>\n",
              "\n",
              "      <script>\n",
              "        const buttonEl =\n",
              "          document.querySelector('#df-b2b85904-6fa5-490d-9ccd-350181cd1b4d button.colab-df-convert');\n",
              "        buttonEl.style.display =\n",
              "          google.colab.kernel.accessAllowed ? 'block' : 'none';\n",
              "\n",
              "        async function convertToInteractive(key) {\n",
              "          const element = document.querySelector('#df-b2b85904-6fa5-490d-9ccd-350181cd1b4d');\n",
              "          const dataTable =\n",
              "            await google.colab.kernel.invokeFunction('convertToInteractive',\n",
              "                                                     [key], {});\n",
              "          if (!dataTable) return;\n",
              "\n",
              "          const docLinkHtml = 'Like what you see? Visit the ' +\n",
              "            '<a target=\"_blank\" href=https://colab.research.google.com/notebooks/data_table.ipynb>data table notebook</a>'\n",
              "            + ' to learn more about interactive tables.';\n",
              "          element.innerHTML = '';\n",
              "          dataTable['output_type'] = 'display_data';\n",
              "          await google.colab.output.renderOutput(dataTable, element);\n",
              "          const docLink = document.createElement('div');\n",
              "          docLink.innerHTML = docLinkHtml;\n",
              "          element.appendChild(docLink);\n",
              "        }\n",
              "      </script>\n",
              "    </div>\n",
              "  </div>\n",
              "  "
            ],
            "text/plain": [
              "       salud       edad  cigarrillos  fumar\n",
              "0  50.288490  40.011086    32.240430    1.0\n",
              "1  52.599040  37.104559    31.638577    1.0\n",
              "2  62.490131  28.839337    38.861040    1.0\n",
              "3  59.400392  39.871172    30.154300    0.0\n",
              "4  53.769606  36.216385    32.780151    1.0"
            ]
          },
          "execution_count": 39,
          "metadata": {},
          "output_type": "execute_result"
        }
      ],
      "source": [
        "np.random.seed(9)\n",
        "\n",
        "N = 10000 # tamaño de nuestra población\n",
        "\n",
        "\n",
        "# Vectores\n",
        "edad = np.random.normal(40, 10, size = N)\n",
        "cigarrillos = 50 -0.5 * edad + np.random.exponential(scale = 1, size = N)\n",
        "fumar = np.array([1 if i > np.mean(cigarrillos) else 0 for i in cigarrillos])\n",
        "\n",
        "salud = 100 - 10 * fumar  - edad + np.random.normal(size = N)\n",
        "\n",
        "\n",
        "# Como DataFrame\n",
        "data = pd.DataFrame(np.array([salud, edad, cigarrillos, fumar]).transpose())\n",
        "data.columns = ['salud', 'edad', 'cigarrillos', 'fumar']\n",
        "\n",
        "data.head()"
      ]
    },
    {
      "cell_type": "markdown",
      "metadata": {
        "id": "UoogbI82YZR4"
      },
      "source": [
        ".**2. Graficar la distribución de cada variable y las correlaciones entre ellas**"
      ]
    },
    {
      "cell_type": "code",
      "execution_count": null,
      "metadata": {
        "colab": {
          "base_uri": "https://localhost:8080/",
          "height": 497
        },
        "id": "TSRyeLvbYaTO",
        "outputId": "328a9ee2-ff40-4804-9163-2eb2f84b2d88"
      },
      "outputs": [
        {
          "data": {
            "image/png": "[encoded data removed]",
            "text/plain": [
              "<Figure size 864x576 with 6 Axes>"
            ]
          },
          "metadata": {
            "needs_background": "light"
          },
          "output_type": "display_data"
        }
      ],
      "source": [
        "fig , axes = plt.subplots(2,3)\n",
        "fig.set_size_inches([12,8])\n",
        "\n",
        "axes[0,0].hist(edad); axes[0,1].hist(fumar); axes[0,2].hist(salud)\n",
        "axes[1,0].scatter(edad, fumar); axes[1,1].scatter(edad, salud); axes[1,2].scatter(fumar, salud)\n",
        "\n",
        "axes[0,0].set_xlabel('edad'); axes[0,1].set_xlabel('fumar'); axes[0,2].set_xlabel('salud')\n",
        "axes[1,0].set_xlabel('edad'); axes[1,0].set_ylabel('fumar'); axes[1,1].set_xlabel('edad')\n",
        "axes[1,1].set_ylabel('salud');axes[1,2].set_xlabel('fumar');axes[1,2].set_ylabel('salud')\n",
        "\n",
        "plt.show()"
      ]
    },
    {
      "cell_type": "markdown",
      "metadata": {
        "id": "ke6IWtye-W4w"
      },
      "source": [
        "*Los fumadores suelen ser jóvenes. Los jóvenes tienen mejor salud. Los fumadores tienen mejor salud.*"
      ]
    },
    {
      "cell_type": "markdown",
      "metadata": {
        "id": "xpfBJbHNYlf6"
      },
      "source": [
        "**3. _Modelo \"mal especificado\"_. Estimar una regresión lineal sin incluir edad como covariable, es decir:** $$salud_i = \\beta_0 + \\beta_1  \\; fumar_i + u_i$$\n",
        "\n",
        "  **¿Logran identificar correctamente el efecto causal, es decir, recuperar el verdadero valor de $\\beta_1$?** \n"
      ]
    },
    {
      "cell_type": "code",
      "execution_count": null,
      "metadata": {
        "colab": {
          "base_uri": "https://localhost:8080/",
          "height": 37
        },
        "id": "GlC5hC-isJVj",
        "outputId": "d8da086b-1f93-48a4-a0b2-04d4ac2cb09d"
      },
      "outputs": [
        {
          "data": {
            "image/png": "[encoded data removed]",
            "text/latex": [
              "$\\displaystyle 5.55689492003102$"
            ],
            "text/plain": [
              "5.556894920031017"
            ]
          },
          "execution_count": 43,
          "metadata": {},
          "output_type": "execute_result"
        }
      ],
      "source": [
        "X = data[['fumar']]\n",
        "y = data['salud']\n",
        "\n",
        "reg = LinearRegression().fit(X, y)\n",
        "reg.coef_[0]"
      ]
    },
    {
      "cell_type": "markdown",
      "metadata": {
        "id": "4iqB64UJkQO4"
      },
      "source": [
        "**Nuestra respuesta**:\n",
        "\n",
        "No identificamos bien el efecto causal: $\\beta_1$ estimado es 5,5. Pareciera que fumar es bueno para la salud y como conocemos el modelo verdadero, sabemos que no es así."
      ]
    },
    {
      "cell_type": "markdown",
      "metadata": {
        "id": "kfZt0bOe6x62"
      },
      "source": [
        "**Alto acá.** ¿Cómo se explica que el efecto de fumar en la salud parezca positivo?"
      ]
    },
    {
      "cell_type": "code",
      "execution_count": null,
      "metadata": {
        "id": "_UKpOkQy7I3K"
      },
      "outputs": [],
      "source": [
        "print(\"Lo que sucede es que...\")\n"
      ]
    },
    {
      "cell_type": "markdown",
      "metadata": {
        "id": "Rq9qyr2F-mes"
      },
      "source": [
        "_Si ud. desea un spoiler, al final de estos ejercicios encontrará la respuesta_."
      ]
    },
    {
      "cell_type": "markdown",
      "metadata": {
        "id": "_g5yB2loYjKP"
      },
      "source": [
        "**3. _Modelo \"bien especificado\"_. Estimar una regresión lineal incluyendo tanto cigarrillos como edad como covariables. Es decir, el siguiente modelo:** $$salud_i = \\beta_0 + \\beta_1  \\; fumar_i + \\beta_2  \\; edad_i +  u_i$$\n",
        "  **¿Logran identificar correctamente el efecto causal, es decir, recuperar el verdadero valor de $\\beta_1$ ?**\n",
        "\n",
        "**Con `sklearn`:**"
      ]
    },
    {
      "cell_type": "code",
      "execution_count": null,
      "metadata": {
        "colab": {
          "base_uri": "https://localhost:8080/",
          "height": 37
        },
        "id": "ZA9iKuuaYgpw",
        "outputId": "3fcc773e-863c-4bc1-c6eb-48ba7d39914d"
      },
      "outputs": [
        {
          "data": {
            "image/png": "[encoded data removed]",
            "text/latex": [
              "$\\displaystyle -9.97812003446446$"
            ],
            "text/plain": [
              "-9.978120034464464"
            ]
          },
          "execution_count": 41,
          "metadata": {},
          "output_type": "execute_result"
        }
      ],
      "source": [
        "X = data[['edad', 'fumar']]\n",
        "y = data['salud']\n",
        "\n",
        "reg = LinearRegression().fit(X, y)\n",
        "reg.coef_[1]"
      ]
    },
    {
      "cell_type": "markdown",
      "metadata": {
        "id": "f9cQo7e8jW9O"
      },
      "source": [
        "**Con `statsmodels`**:\n",
        "\n",
        "(en este caso debemos añadir manualmente al modelo el intercepto o parámetro de ordenada al origen)"
      ]
    },
    {
      "cell_type": "code",
      "execution_count": null,
      "metadata": {
        "colab": {
          "base_uri": "https://localhost:8080/"
        },
        "id": "lmzvtXimp_Y8",
        "outputId": "b3ad88a6-a3c5-463f-c142-a18e37d1cf28"
      },
      "outputs": [
        {
          "name": "stdout",
          "output_type": "stream",
          "text": [
            "                            OLS Regression Results                            \n",
            "==============================================================================\n",
            "Dep. Variable:                  salud   R-squared:                       0.979\n",
            "Model:                            OLS   Adj. R-squared:                  0.979\n",
            "Method:                 Least Squares   F-statistic:                 2.375e+05\n",
            "Date:                Sun, 30 Oct 2022   Prob (F-statistic):               0.00\n",
            "Time:                        02:48:25   Log-Likelihood:                -14117.\n",
            "No. Observations:               10000   AIC:                         2.824e+04\n",
            "Df Residuals:                    9997   BIC:                         2.826e+04\n",
            "Df Model:                           2                                         \n",
            "Covariance Type:            nonrobust                                         \n",
            "==============================================================================\n",
            "                 coef    std err          t      P>|t|      [0.025      0.975]\n",
            "------------------------------------------------------------------------------\n",
            "const         99.9800      0.077   1297.190      0.000      99.829     100.131\n",
            "edad          -0.9999      0.002   -629.924      0.000      -1.003      -0.997\n",
            "fumar         -9.9781      0.032   -315.126      0.000     -10.040      -9.916\n",
            "==============================================================================\n",
            "Omnibus:                        3.014   Durbin-Watson:                   1.967\n",
            "Prob(Omnibus):                  0.222   Jarque-Bera (JB):                2.983\n",
            "Skew:                           0.035   Prob(JB):                        0.225\n",
            "Kurtosis:                       3.048   Cond. No.                         339.\n",
            "==============================================================================\n",
            "\n",
            "Notes:\n",
            "[1] Standard Errors assume that the covariance matrix of the errors is correctly specified.\n"
          ]
        },
        {
          "name": "stderr",
          "output_type": "stream",
          "text": [
            "/usr/local/lib/python3.7/dist-packages/statsmodels/tsa/tsatools.py:142: FutureWarning: In a future version of pandas all arguments of concat except for the argument 'objs' will be keyword-only\n",
            "  x = pd.concat(x[::order], 1)\n"
          ]
        }
      ],
      "source": [
        "X = sm.add_constant(X) \n",
        "model = sm.OLS(y, X)\n",
        "results = model.fit()\n",
        "print(results.summary())"
      ]
    },
    {
      "cell_type": "markdown",
      "metadata": {
        "id": "q6nxs9rgj0pO"
      },
      "source": [
        "**Nuestra respuesta**:\n",
        "\n",
        "Logramos identificar el verdadero efecto causal: $\\beta_1$ estimado es practicamente -0.25"
      ]
    },
    {
      "cell_type": "markdown",
      "metadata": {
        "id": "SjLFmfmjYZ9q"
      },
      "source": [
        "**5. ¡A simular! Generar mil veces las 10000 observaciones, estimar mil veces  $\\beta_1$ incluyendo todas las variables, y estimar mil veces $\\beta_1$  omitiendo la variable edad. Hacer un boxplot de $\\hat{\\beta_1}$ cuando no se omite ninguna variable, y un boxplot de $\\hat{\\beta_1}$ al omitir la variable edad. ¿Qué se observa?**"
      ]
    },
    {
      "cell_type": "code",
      "execution_count": null,
      "metadata": {
        "id": "F542xZc1YYC1"
      },
      "outputs": [],
      "source": [
        "b1est_verdadero = [] # acá iremos guardando las estimaciones de b1 con el modelo completo \n",
        "b1est_omite = [] # acá iremos guardando las estimaciones de b1 cuando omitimos la variable edad \n",
        "\n",
        "for i in range(1000):\n",
        "  \n",
        "  # generamos los datos\n",
        "  edad = np.random.normal(40, 10, size = N)\n",
        "  cigarrillos = 50 - 0.5 * edad + np.random.exponential(scale = 1, size = N)\n",
        "  fumar = np.array([1 if i > np.mean(cigarrillos) else 0 for i in cigarrillos])\n",
        "\n",
        "  salud = 100 - 10 * fumar  - edad + np.random.normal(size = N)\n",
        "\n",
        "\n",
        "  # DataFrame\n",
        "  data = pd.DataFrame(np.array([salud, edad, cigarrillos, fumar]).transpose())\n",
        "  data.columns = ['salud', 'edad', 'cigarrillos', 'fumar']\n",
        " \n",
        "\n",
        "  y = data['salud']\n",
        "  \n",
        "  # estimamos con el modelo completo\n",
        "  X = data[['edad', 'fumar']]\n",
        "  reg = LinearRegression().fit(X, y)\n",
        "  b1est_verdadero += [reg.coef_[1]]\n",
        "\n",
        "\n",
        "  # estimamos omitiendo la variable edad\n",
        "  X = data[['fumar']]\n",
        "  reg = LinearRegression().fit(X, y)\n",
        "  b1est_omite += [reg.coef_[0]]"
      ]
    },
    {
      "cell_type": "code",
      "execution_count": null,
      "metadata": {
        "colab": {
          "base_uri": "https://localhost:8080/",
          "height": 390
        },
        "id": "j77nx3KP9Gop",
        "outputId": "cdedc3b1-65a5-4837-8c16-302b67992fb6"
      },
      "outputs": [
        {
          "data": {
            "image/png": "[encoded data removed]",
            "text/plain": [
              "<Figure size 864x432 with 1 Axes>"
            ]
          },
          "metadata": {
            "needs_background": "light"
          },
          "output_type": "display_data"
        }
      ],
      "source": [
        "plt.figure(figsize=(12,6))\n",
        "plt.boxplot([b1est_verdadero,b1est_omite])\n",
        "plt.title(\"b1 estimado\")\n",
        "plt.xticks([1, 2], ['modelo completo', 'omitiendo edad'])\n",
        "plt.axhline(-10, c='r') # valor verdadero\n",
        "\n",
        "plt.show()"
      ]
    },
    {
      "cell_type": "markdown",
      "metadata": {
        "id": "8HSyd4TVlhWx"
      },
      "source": [
        "Vemos que al omitir la variable edad, el estimador de $\\beta_1$ está sesgado."
      ]
    },
    {
      "cell_type": "markdown",
      "metadata": {
        "id": "XfBPo8QpYXtP"
      },
      "source": [
        "**6. Supongamos que no contamos con la variable edad. Sin embargo, podemos hacer un experimento: distribuir aleatoriamente a un grupo de 10000 personas entre fumadores y no fumadores. Calcular el indicador de salud para esas personas que recibieron tratamiento aleatorio. Graficar la relación entre el tratamiento recibido y la edad.**"
      ]
    },
    {
      "cell_type": "code",
      "execution_count": null,
      "metadata": {
        "colab": {
          "base_uri": "https://localhost:8080/",
          "height": 279
        },
        "id": "38nBp4GIY17q",
        "outputId": "3f89fd72-58ce-4207-ce7e-792ff4694f21"
      },
      "outputs": [
        {
          "data": {
            "image/png": "[encoded data removed]",
            "text/plain": [
              "<Figure size 432x288 with 1 Axes>"
            ]
          },
          "metadata": {
            "needs_background": "light"
          },
          "output_type": "display_data"
        }
      ],
      "source": [
        "# Asignamos aleatoriamente quién será fumador y quién no\n",
        "data[\"fumar_exp\"] = np.round(np.random.binomial(1, 0.5, N))\n",
        "\n",
        "# Dado el consumo de cigarrillos, calculamos el índice de salud \n",
        "data[\"salud_exp\"] = 100 - 10 * data.fumar_exp  - data.edad + np.random.normal(size = N)\n",
        "\n",
        "# Graficamos\n",
        "plt.scatter(data.edad, data.fumar_exp)\n",
        "plt.xlabel(\"edad\")\n",
        "plt.ylabel(\"fumador - experimento\")\n",
        "plt.show()"
      ]
    },
    {
      "cell_type": "markdown",
      "metadata": {
        "id": "BNAnHHuCY5jf"
      },
      "source": [
        "**7. Con los datos generados en el experimento, estime la regresión sin incluir edad como covariable, es decir, el modelo del punto 3. Simule y graficar la distribución del estimador. ¿Es posible identificar el efecto causal, es decir, recuperar el verdadero valor de $\\beta_1$?**\n"
      ]
    },
    {
      "cell_type": "code",
      "execution_count": null,
      "metadata": {
        "colab": {
          "base_uri": "https://localhost:8080/",
          "height": 37
        },
        "id": "QTIE_WaPY6Pw",
        "outputId": "b2e989cf-ca0d-4b39-9e8a-f914778707ae"
      },
      "outputs": [
        {
          "data": {
            "image/png": "[encoded data removed]",
            "text/latex": [
              "$\\displaystyle -10.080609696671$"
            ],
            "text/plain": [
              "-10.080609696671006"
            ]
          },
          "execution_count": 48,
          "metadata": {},
          "output_type": "execute_result"
        }
      ],
      "source": [
        "X = data[['fumar_exp']]\n",
        "y = data['salud_exp']\n",
        "\n",
        "reg = LinearRegression().fit(X, y)\n",
        "reg.coef_[0]"
      ]
    },
    {
      "cell_type": "markdown",
      "metadata": {
        "id": "76adO_YQRfgl"
      },
      "source": [
        "_Volvimos a recuperar el efecto causal_. **Alto acá.** ¿Cómo se explica que cuando hacemos un experimento podemos recuperar el efecto causal regresando la salud solamente en la variable fumar?"
      ]
    },
    {
      "cell_type": "code",
      "execution_count": null,
      "metadata": {
        "id": "LRUd4CzlRvtJ"
      },
      "outputs": [],
      "source": [
        "print(\"Lo que sucede es que...\")\n",
        "\n"
      ]
    },
    {
      "cell_type": "markdown",
      "metadata": {
        "id": "t8OtlMe-7kTU"
      },
      "source": [
        "#### Moralejas de la simulación\n",
        "\n",
        "* La edad es una variable **confusora**: es relevante para el resultado _y además_ está correlacionada con la variable de tratamiento. Si la omitimos, no podemos identificar correctamente el efecto causal de fumar en la salud. Aparece un **sesgo** y pareciera que fumar se asocia a tener una mayor salud. Se \"confunde\" el efecto propio de fumar en la salud con el hecho de que los fumadores en general son jóvenes y los jóvenes tienen mejor salud. pero no podemos saber qué parte de la diferencia en la salud promedio de fumadores y no fumadores es efectivamente atribuible al tratamiento (a fumar) y qué parte es atribuible al confusor (a que los fumadores son jóvenes). \n",
        "\n",
        "\n",
        "> _Las variables confusoras son aquellas que correlacionan tanto con el tratamiento como con el resultado. Esto hace que los no tratados no sean un buen contrafáctico para los tratados. Porque si los tratados tienen una característica más allá del tratamiento que los diferencia de los no tratados, y esa característica puede influir sobre la variable de resultado, no tenemos forma de distinguir que es el tratamiento y no esta otra variable la causa de los resultados diferentes que observemos. Si no controlamos por ella, la confundiremos con el tratamiento._\n",
        "\n",
        "\n",
        "* Al experimentar, rompemos la relación de fumar con la edad. Los tratados y no tratados pasan a tener edades que en promedio son similares entre sí. Si ninguno fumara, en promedio los tratados y los no tratados tendrían la misma salud: el resultado potencial de no recibir tratamiento (de no fumar) es el mismo, se cumple el supuesto de independencia. \n",
        "\n",
        "* Controlar por la edad permite separar los efectos parciales de fumar y de la edad en la salud. Le \"quita\" a la variable $fumar$ la parte que afecta a la salud a través de la edad. O, lo que es lo mismo, permite comparar fumadores versus no fumadores entre grupos de la misma edad. Condicional en la edad, el resultado potencial de recibir tratamiento (de no fumar) es el mismo, se cumple el supuesto de independencia. "
      ]
    },
    {
      "cell_type": "markdown",
      "metadata": {
        "id": "Uz2HZvcSnBPq"
      },
      "source": [
        "# Identificar versus estimar\n",
        "\n",
        "Es importante distinguir entre algunos conceptos:\n",
        "\n",
        "- **Estimando y estimador**. El _estimando_ es la cantidad que queremos estimar, que en casos paramétricos suele ser alguno de los parámetros poblacionales (por ejemplo $\\beta_1$). En cambio, el _estimador_ es una función de los datos (es decir un _estadístico_) que nos permite aproximarnos al valor real (por ejemplo $\\hat{\\beta}_1$, el valor calculado por cuadrados mínimos, estima $\\beta_1$).\n",
        "\n",
        "Hay dos tipos de estimandos:\n",
        "- **Estimando causal**: es un estimando que involucra contrafácticos y por lo tanto no es inmediatamente calculable (involucra \"datos faltantes\" imposibles de medir). El que venimos viendo fundamentalmente es el ATE, $\\E[Y(1)] - \\E[Y(0)]$\n",
        "- **Estimando estadístico**: es un estimando que no involucra contrafácticos y por lo tanto puede ser calculado a partir de los datos sobre lo que realmente ocurrió (independientemente de si tenemos acceso o no a esos datos).\n",
        "\n",
        "Y esto es fundamental para distinguir claramente dos etapas del análisis causal:\n",
        "\n",
        "- **Identificación** es el proceso de utilizar hipótesis causales para transformar un estimando causal en un estimando estadístico equivalente.\n",
        "- **Estimación**: es el proceso de elegir y calcular un estimador para nuestro estimando elegido previamente.\n",
        "\n",
        "En nuestra simulación, al omitir la variable edad, la _estimación_ de $\\beta_1$ sí capta correctamente la **correlación** entre tratamiento y resultado: en efecto, ¡los fumadores suelen tener mejor salud! Pero que no sería correcto darle a esa correlación una interpretación causal. Hay una parte de esa correlación que es espuria: se debe al hecho de que son los jóvenes los que fuman más, y a su vez los jóvenes tienen mejor salud. Confundimos el efecto de la edad en la salud con el efecto parcial que nos interesa realmente, el de fumar en sí. El error no está en la etapa de estimación per se, sino en la etapa de identificación: el _estimando_, aquello que nuestro método estadístico estima, no tiene una interretación causal, y por lo tanto tampoco la tiene nuestro estimador.\n",
        "\n",
        "Así, podemos entender el proceso de análisis causal descrito hasta ahora como el siguiente _pipeline_ (cadena de procesos a ser realizados uno detrás del otro):\n",
        "\n",
        "$$ {\\sf Modelar} \\to {\\sf Identificar} \\to {\\sf Estimar} $$"
      ]
    },
    {
      "cell_type": "markdown",
      "metadata": {
        "id": "uVLJXQoZmq7v"
      },
      "source": [
        "# Causalidad, predecibilidad y explicabilidad\n",
        "\n",
        "A medida que vayamos avanzando en el curso, la idea es que quede cada vez más claro por qué las siguientes herramientas de análisis **no hacen análisis causal** por más que muchas veces se diga que lo hacen.\n",
        "\n",
        "- _Shap values_. Los valores SHAP (SHapley Additive exPlanations) son un método muy interesante para identificar qué aspectos del input de un modelo son los más informativos a la hora de explicar el resultado de predicción del mismo. Sin embargo esto no tiene mucho que ver con qué pasaría si alguna variable fuera intervenida a través de alguna decisión o cambio en el mundo real que genera los datos que sirven de input al modelo. Ver [aquí](https://shap.readthedocs.io/en/latest/example_notebooks/overviews/Be%20careful%20when%20interpreting%20predictive%20models%20in%20search%20of%20causal%C2%A0insights.html).\n",
        "  - Esto es un buen ejemplo de cómo _causalidad y explicabilidad son cosas diferentes_.\n",
        "<center><img src=\"https://storage.googleapis.com/humai-datasets/imagenes/causalidad/1_IntroyResultadosPotenciales/shap.png\" height=\"150\" style=\"margin:auto\"/></center>\n",
        "\n",
        "  \n",
        "- Análisis factorial y métodos como PCA (Principal Component Analysis): a grandes rasgos pasa lo mismo que con SHAP: se trata de encontrar combinaciones de las variables (\"factores\" o \"componentes principales\") que explican la variabilidad observada. Más allá de que potencialmente haya alguna hipótesis causal sobre la relación entre estos factores y las variables observadas, podemos decir que estos métodos no utilizan ideas de análisis causal tal como ha sido presentado aquí.\n",
        "- Causalidad de Granger. En este caso se trata de determinar mediante un test estadístico si una serie de tiempo X (vista hasta tiempo $t$) puede ser utilizada para predecir el valor que _otra_ serie de tiempo Y adopta en el instante $t+1$. Por más que tenga \"causalidad\" en el nombre, hasta el mismo Granger admitió que no es tanto una medida de causalidad sino una medida de hasta qué punto X _pronostica_ a Y.\n",
        "\n",
        "<center><img src=\"https://storage.googleapis.com/humai-datasets/imagenes/causalidad/1_IntroyResultadosPotenciales/granger.png\" height=\"150\" style=\"margin:auto\"/></center>\n",
        "\n",
        "En el fondo, lo que ocurre métodos como estos permiten entender mejor la naturaleza de las **correlaciones** presentes en los datos (y cómo se relacionan con las predicciones de nuestros modelos), pero nunca abordan directamente la causalidad **porque nunca se meten con el razonamiento contrafáctico**. Así que recuerden:\n",
        "\n",
        "- ¡Sin contrafácticos no hay causalidad!\n",
        "- ¡Sin hipótesis causales, no hay conclusiones causales!"
      ]
    },
    {
      "cell_type": "markdown",
      "metadata": {
        "id": "ilzvtmmVRNIm"
      },
      "source": [
        "# Conclusiones\n",
        "\n",
        "En esta primera clase... \n",
        "\n",
        "* Dimos un pantallazo de por qué podría interesarnos la causalidad.\n",
        "* Diferenciamos correlación de causalidad.\n",
        "* Vimos qué significa entender una afirmación causal como comparación de mundos contrafácticos.\n",
        "* Presentamos el marco de resultados potenciales o _potential outcomes_.\n",
        "* Nos encontramos con el problema fundamental de la inferencia causal.\n",
        "* Vimos qué es un confusor y los problemas que generan a la hora de identificar el efecto causal.\n",
        "* Vimos los supuestos que deben cumplirse para poder aproximar el efecto causal.\n",
        "* Distinguimos entre _identificación_ y _estimación_.\n",
        "* Vimos un ejemplo numérico para ayudar a cimentar estas ideas.\n",
        "\n",
        "Algunas cosas importantes a llevarse:\n",
        "\n",
        "* Un buen primer paso a la hora de querer encontrar una relación causal es preguntarse ¿cuál es mi experimento ideal? (con DeLorean y sin DeLorean)\n",
        "* Hay dos tipos de escenarios: los datos experimentales, en los que intervenimos sobre el valor de la variable $T$ (asignación de tratamiento) y la determinamos exógenamente, y los datos observacionales, en los cuales debemos tener en cuenta la presencia de posibles confusores.\n",
        "* Para poder identificar el efecto causal, en ambos casos necesitamos hipótesis causales, ya sea para afirmar que nuestro experimento fue bien diseñado, o para afirmar que el conjunto de covariables que controlamos en nuestro análisis es suficiente (y por ejemplo, no se nos escapó ningún confusor).\n",
        "\n",
        "En lo que sigue del curso veremos qué podemos hacer cuando contamos con información más limitada o no podemos experimentar: cómo poder construir un contrafáctico _creíble_, un grupo de control comparable al del tratamiento."
      ]
    },
    {
      "cell_type": "markdown",
      "metadata": {
        "id": "3vnbfOEYSuxI"
      },
      "source": [
        "## Referencias\n",
        "\n",
        "### Para repasar\n",
        "- **Angrist & Pischke (2015), Dominar la econometría**. Capítulo 1 - Experimentos aleatorios.\n",
        "- **Neal (2020), [Introduction to causal inference](https://www.bradyneal.com/Introduction_to_Causal_Inference-Dec17_2020-Neal.pdf)**. Capítulos 1 y 2 (en inglés)\n",
        "\n",
        "### Para profundizar\n",
        "- Causalidad y filosofía\n",
        "  - Stanford Encyclopedia of Philosophy, [Counterfactual theories of causation](https://plato.stanford.edu/entries/causation-counterfactual/)\n",
        "- Causalidad y econometría\n",
        "  - El [artículo de prensa del premio Nobel de economía de 2021](https://www.nobelprize.org/prizes/economic-sciences/2021/press-release/) y los artículos que allí se citan (en inglés)\n",
        "  - Imbens (2019), [Potential Outcome and Directed Acyclic Graph Approaches to Causality: Relevance for Empirical Practice in Economics](https://arxiv.org/abs/1907.07271)\n",
        "  - Este video titulado [Machine Learning and Causal Inference for Policy Evaluation](https://www.youtube.com/watch?v=Yx6qXM_rfKQ) y este otro video titulado [Machine Learning and Causal Inference](https://www.youtube.com/watch?v=DixuYCsXFig&t=214s) de Susan Athey (en inglés)\n",
        "  - Este video titulado [Econometrics is the original data science](https://www.youtube.com/watch?v=T24j8XTcpe0) de Joshua Angrist (en inglés)\n",
        "- Causalidad e inteligencia artificial\n",
        "  - Schölkopf et al (2021) [Towards Causal Representation Learning](https://arxiv.org/abs/2102.11107)\n",
        "  - Zhao, Hastie (2021) [Causal interpretations of black-box models](https://www.tandfonline.com/doi/pdf/10.1080/07350015.2019.1624293)\n"
      ]
    }
  ],
  "metadata": {
    "colab": {
      "collapsed_sections": [],
      "provenance": []
    },
    "kernelspec": {
      "display_name": "Python 3",
      "name": "python3"
    },
    "language_info": {
      "name": "python"
    }
  },
  "nbformat": 4,
  "nbformat_minor": 0
}