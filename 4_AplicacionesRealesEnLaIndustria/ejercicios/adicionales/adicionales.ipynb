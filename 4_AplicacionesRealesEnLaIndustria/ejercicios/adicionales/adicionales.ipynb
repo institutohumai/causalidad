{
  "cells": [
    {
      "cell_type": "markdown",
      "id": "06c9c221",
      "metadata": {
        "id": "06c9c221"
      },
      "source": [
        "# Ejercicios clase 4\n"
      ]
    },
    {
      "cell_type": "markdown",
      "id": "f22870ec",
      "metadata": {
        "id": "f22870ec"
      },
      "source": [
        "## Análisis Frecuentista con Python\n",
        "Realizar el análisis frecuentista en el grupo 1D. Calcular la diferencia de las tasas de conversión, realizar un Test de proporciones para analizar si el efecto es significativo y aplicar el estimador WALD para compensar el ATE."
      ]
    },
    {
      "cell_type": "code",
      "execution_count": null,
      "id": "b3cda815",
      "metadata": {
        "id": "b3cda815"
      },
      "outputs": [],
      "source": [
        "\n",
        "import numpy as np\n",
        "from scipy.stats import chi2_contingency\n",
        "\n",
        "def calcular_diferencia_conversion_rate(dataset):\n",
        "\n",
        "def test_proporciones(dataset):\n",
        "\n",
        "def estimador_wald(dataset):\n"
      ]
    },
    {
      "cell_type": "markdown",
      "id": "a8b2f40b",
      "metadata": {
        "id": "a8b2f40b"
      },
      "source": [
        "## Estimar efecto de largo plazo con S Learner\n",
        "Estimar efecto de largo plazo utilizando la técnica del S learner (con Regresión Lineal) para el grupo 1D."
      ]
    },
    {
      "cell_type": "code",
      "execution_count": null,
      "id": "a2d4cbb0",
      "metadata": {
        "id": "a2d4cbb0"
      },
      "outputs": [],
      "source": [
        "```python\n",
        "from sklearn.linear_model import LinearRegression\n",
        "from sklearn.preprocessing import StandardScaler\n",
        "\n",
        "def efecto_largo_plazo_s_learner(dataset):\n"
      ]
    }
  ],
  "metadata": {
    "colab": {
      "provenance": []
    }
  },
  "nbformat": 4,
  "nbformat_minor": 5
}